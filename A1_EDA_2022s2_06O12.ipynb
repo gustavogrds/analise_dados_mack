{
  "nbformat": 4,
  "nbformat_minor": 0,
  "metadata": {
    "colab": {
      "provenance": [],
      "include_colab_link": true
    },
    "kernelspec": {
      "name": "python3",
      "display_name": "Python 3"
    },
    "language_info": {
      "name": "python"
    }
  },
  "cells": [
    {
      "cell_type": "markdown",
      "metadata": {
        "id": "view-in-github",
        "colab_type": "text"
      },
      "source": [
        "<a href=\"https://colab.research.google.com/github/gustavogrds/analise_dados_mack/blob/main/A1_EDA_2022s2_06O12.ipynb\" target=\"_parent\"><img src=\"https://colab.research.google.com/assets/colab-badge.svg\" alt=\"Open In Colab\"/></a>"
      ]
    },
    {
      "cell_type": "markdown",
      "source": [
        "<head>\n",
        "  <meta name=\"author\" content=\"Gustavo Rocha\">\n",
        "  <meta institution=\"author\" content=\"Universidade Presbiteriana Mackenzie\">\n",
        "</head>\n",
        "\n",
        "<img src=\"http://meusite.mackenzie.br/rogerio/mackenzie_logo/UPM.2_horizontal_vermelho.jpg\" width=300, align=\"right\"> \n",
        "<!-- <h1 align=left><font size = 6, style=\"color:rgb(200,0,0)\"> optional title </font></h1> -->\n",
        "\n",
        "<br>\n",
        "<br>\n",
        "<br>\n",
        "<br>\n",
        "<br>\n",
        "\n",
        "# Avaliação Case: **Ultra Trail Running** \n",
        "---"
      ],
      "metadata": {
        "id": "36syg1cn87ka"
      }
    },
    {
      "cell_type": "markdown",
      "source": [
        "## Para responder as questões da avaliação, você deverá trabalhar com os dados da lista de corredores de ultra maratonas **Ultra-trail running**:\n",
        "\n",
        "Os dados foram coletados no site da International Trail Running Association (ITRA), que compila os resultados das corridas de trail running de 2012 a 2021. Este conjunto de dados foca mais especificamente nas corridas mais emblemáticas da disciplina: corridas de 100 milhas .\n",
        "\n",
        "Nessas corridas física e mentalmente exigentes, não é incomum ver mulheres vencendo, pois as mulheres podem ser mais rápidas que os homens em longas distâncias. Como primeiro exemplo de processamento de dados, você verá aqui que em 2021, em média, as mulheres foram mais rápidas que os homens para terminar o UTMB (Chamonix, França), uma das corridas mais famosas de ultra-trail running.\n",
        "\n",
        "Crédito deste texto: Benjamin Nowak [link](https://github.com/BjnNowak/UltraTrailRunning)"
      ],
      "metadata": {
        "id": "NCaqWiYO9IJL"
      }
    },
    {
      "cell_type": "markdown",
      "source": [
        "Os dados estão disponíveis no seguinte link: \n",
        "'https://raw.githubusercontent.com/rfordatascience/tidytuesday/master/data/2021/2021-10-26/ultra_rankings.csv'"
      ],
      "metadata": {
        "id": "We01nwuy-Bbf"
      }
    },
    {
      "cell_type": "markdown",
      "source": [
        "### Data Dictionary\n",
        "\n",
        "# `ultra_rankings.csv`\n",
        "\n",
        "|variable     |class     |description |\n",
        "|:------------|:---------|:-----------|\n",
        "|race_year_id |double    | Race ID |\n",
        "|rank         |double    | Racer rank |\n",
        "|runner       |character | Runner name |\n",
        "|time         |double    | Runner time, hour:minute:seconds |\n",
        "|age          |double    | Runner age |\n",
        "|gender       |character | Runner gender (Man = M, Woman = W)|\n",
        "|nationality  |character | Nationality of runner |"
      ],
      "metadata": {
        "id": "u19ossPIAAZq"
      }
    },
    {
      "cell_type": "markdown",
      "source": [
        "Abaixo, faça o import das bibliotecas e leia o dado."
      ],
      "metadata": {
        "id": "xcm52KfD_JSN"
      }
    },
    {
      "cell_type": "code",
      "source": [
        "import pandas as pd\n",
        "\n",
        "df =..."
      ],
      "metadata": {
        "id": "91DseI2q_I33"
      },
      "execution_count": 1,
      "outputs": []
    },
    {
      "cell_type": "markdown",
      "source": [
        "#Questão 1: Qual o número de linhas e colunas no dataframe? "
      ],
      "metadata": {
        "id": "kZgQ4Rsb_RS1"
      }
    },
    {
      "cell_type": "markdown",
      "source": [
        "# Questão 2: Para quantos corredores nós temos a informação de rank que eles ocupam? "
      ],
      "metadata": {
        "id": "6h6TWKlhAWa8"
      }
    },
    {
      "cell_type": "markdown",
      "source": [
        "# Questão 3: Qual é aproximadamente a % de vezes em que um atleta do Japão venceu o torneio ?"
      ],
      "metadata": {
        "id": "b4GylIxqBhzZ"
      }
    },
    {
      "cell_type": "markdown",
      "source": [
        "# Questão 4: Qual a idade e o nome do atleta mais velho a vencer a competição?\n",
        "\n"
      ],
      "metadata": {
        "id": "V-eIlMtJCPSy"
      }
    },
    {
      "cell_type": "markdown",
      "source": [
        "# Questão 5: Após remover as linhas com valores nulos, qual é o total de linhas ?"
      ],
      "metadata": {
        "id": "vb3iHmlBxKdI"
      }
    },
    {
      "cell_type": "markdown",
      "source": [
        "# Questão 6: Qual a média do tempo de prova por todos os corredores que nasceram na Espanha (ESP)?"
      ],
      "metadata": {
        "id": "zYTYwKAfxqbW"
      }
    },
    {
      "cell_type": "markdown",
      "source": [
        "# Questão 7: Qual a mediana da distribuição de tempos de prova? E de idade dos competidores ?"
      ],
      "metadata": {
        "id": "OBVAPrPj1qwH"
      }
    },
    {
      "cell_type": "markdown",
      "source": [
        "# Questão 8: Qual a quantidade de nacionalidades participantes destas provas?"
      ],
      "metadata": {
        "id": "r9kRaMV22P4-"
      }
    },
    {
      "cell_type": "markdown",
      "source": [
        "# Questão 9: A prova com distância mais longa de todas é a com race_year_id = 68776, que é uma prova de 179,1 km. Qual a diferença entre a média de tempo em segundos de homens e mulheres desta prova especificamente (em segundos)?  "
      ],
      "metadata": {
        "id": "RIc7ZyS72jbC"
      }
    },
    {
      "cell_type": "markdown",
      "source": [
        "# Questão 10: Entre os 5 atletas de menor idade a competir, quantos são espanhóis e quandos são franceses respectivamente? "
      ],
      "metadata": {
        "id": "YmorXsNU4d1t"
      }
    },
    {
      "cell_type": "markdown",
      "source": [
        "# Questão 11: Usando o comando group_by crie uma tabela contando quantas vezes cada atleta participou de uma prova. Quem é o primeiro e o último da lista? "
      ],
      "metadata": {
        "id": "k9GUeu9M42Mj"
      }
    },
    {
      "cell_type": "markdown",
      "source": [
        "# Questão 12: Usando o comando group_by crie uma tabela com o nome de cada atleta que e que mostre tempo médio em segundos, desvio padrão do tempo médio em segundos, soma dos tempos médios em segundos."
      ],
      "metadata": {
        "id": "slWBsE4h6i3G"
      }
    },
    {
      "cell_type": "markdown",
      "source": [
        "# Com base no resultado acima responda: qual a soma, a média e o desvio-padrão da distância no caso do atleta ŠTVERÁK Tomáš? "
      ],
      "metadata": {
        "id": "1N0_jtea92Nm"
      }
    }
  ]
}