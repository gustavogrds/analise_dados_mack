{
  "nbformat": 4,
  "nbformat_minor": 0,
  "metadata": {
    "kernelspec": {
      "display_name": "Python 3",
      "language": "python",
      "name": "python3"
    },
    "language_info": {
      "codemirror_mode": {
        "name": "ipython",
        "version": 3
      },
      "file_extension": ".py",
      "mimetype": "text/x-python",
      "name": "python",
      "nbconvert_exporter": "python",
      "pygments_lexer": "ipython3",
      "version": "3.8.5"
    },
    "colab": {
      "name": "Aula 1. Introdução à Análise de Dados.ipynb",
      "provenance": [],
      "collapsed_sections": [
        "GDZdO04HRwA2",
        "gaddUHfbFsh7",
        "HS-7wd3hU2JG",
        "m2YKmZp5F9KP",
        "3OLrF8-aGOG1",
        "3PwGs5rHGTnx",
        "OMAEtzeCGpYy",
        "2lmAQlNAGs4b",
        "Bou6bnRcGhGu",
        "XmAPaLSeJmvm",
        "kR2XFt36POxU"
      ]
    }
  },
  "cells": [
    {
      "cell_type": "markdown",
      "source": [
        "<head>\n",
        "  <meta name=\"author\" content=\"Rogério de Oliveira\">\n",
        "  <meta institution=\"author\" content=\"Universidade Presbiteriana Mackenzie\">\n",
        "</head>\n",
        "\n",
        "<img src=\"http://www.orlandoalbarracin.com.br/phyton/mackenzie-logo.png\" width=300, align=\"left\">\n",
        "<!-- <h1 align=left><font size = 6, style=\"color:rgb(200,0,0)\"> optional title </font></h1> -->\n"
      ],
      "metadata": {
        "id": "KKpuBGYZJzDA"
      }
    },
    {
      "cell_type": "markdown",
      "source": [
        "# Introdução"
      ],
      "metadata": {
        "id": "gc5TEb4PWHDM"
      }
    },
    {
      "cell_type": "markdown",
      "source": [
        "## Análise Exploratória de dados (EDA)"
      ],
      "metadata": {
        "id": "oe_XyHTvVMR-"
      }
    },
    {
      "cell_type": "markdown",
      "source": [
        "> Este será o foco do nosso curso e iremos instrumentá-lo \n",
        "para que você esteja habilitado a realizar e compreender análises exploratórias de dados (EDA) de forma profissional.\n",
        "\n",
        "A análise exploratória de dados (EDA) é usada por cientistas de dados para analisar e investigar conjuntos de dados e resumir suas características principais, muitas vezes empregando métodos de visualização de dados. Ajuda a determinar a melhor maneira de manipular as fontes de dados para obter as respostas de que você precisa, tornando mais fácil para os cientistas de dados descobrir padrões, detectar anomalias, testar uma hipótese ou verificar suposições.\n",
        "\n",
        "A EDA é usado principalmente para ver o que os dados podem revelar além da modelagem formal ou tarefa de teste de hipótese. Busca também fornecer um melhor entendimento das variáveis relações entre elas. \n",
        "\n",
        "A EDA permite analisar os dados antes de fazer quaisquer suposições. Pode ajudar a identificar erros óbvios, bem como compreender melhor os padrões dentro dos dados, detectar outliers ou eventos anômalos, encontrar relações interessantes entre as variáveis. Os cientistas de dados empregam, então, a análise exploratória para garantir que os resultados que produzem sejam válidos e aplicáveis, antes mesmo de aplicá-los a modelos mais sofisticados de Aprendizado de Máquina. \n",
        "\n"
      ],
      "metadata": {
        "id": "6YMIg8MzVKRl"
      }
    },
    {
      "cell_type": "markdown",
      "source": [
        "### Exemplos de Aplicações"
      ],
      "metadata": {
        "id": "lUpIvtf0WzvE"
      }
    },
    {
      "cell_type": "markdown",
      "source": [
        "Se você usa um celular, faz compras pela Internet, emprega redes sociais ou faz transações com um cartão de crédito você certamente já teve contato com aplicações de Ciência de Dados. Elas estão presentes quase todos os segmentos Finanças, Robótica, Marketing, Vendas, Indústria, Medicina, Ciências em geral, Governo etc.\n",
        "\n",
        "Um grande número de fatores tem contribuído para o recente crescimento do uso da Ciência de Dados sejam do lado da demanda, com novas aplicações (aplicações móveis, IoT, redes sociais, games, marketing digital, diagnósticos por imagem, aplicações geoespaciais), ou do lado da capacidade das soluções (aumento da capacidade computacional com o uso da computação em nuvem, tecnologias de armazenamento, GPU; grandes avanços no aprendizado de máquinas - *deep learning*, *graphical models*). *Deep Learning* vem trazendo um impacto massivo no segmento de tecnologias de consumo. Google e Baidu empregam DL para o reconhecimento de imagens, em search engines e em soluções de tradução automática. Apple Siri, Amazon Alexa, Microsoft Cortana e Samsung Bixby empregam DL para *speech recognition*.  \n",
        "\n",
        "Você encontrar abaixo alguns casos clássicos da aplicação da Ciência de Dados, aplicações em diferentes áreas, como *Smart Cities* e Eleições, e aplicações no Setor da Manufatura. \n",
        "\n",
        "**Casos Gerais**\n",
        "\n",
        "Basta dar um Google com 'Data Science' ou 'Ciência de Dados' e você encontrará inúmeros cases. Aqui vão alguns casos gerais, mas podemos discutir muitos outros em sala. Participe!\n",
        "\n",
        "* [casos gerais](https://data-flair.training/blogs/data-science-case-studies/)\n",
        "\n",
        "* [Netflix](https://data-flair.training/blogs/data-science-at-netflix/)\n",
        "\n",
        "* [Twitter](https://data-flair.training/blogs/data-science-at-twitter/)\n",
        "\n",
        "* [Facebook](https://data-flair.training/blogs/data-science-at-facebook/)\n",
        "\n",
        "\n",
        "**Ciência de Dados na Indústria**\n",
        "\n",
        "Acesse [Machine Learning and Data Science Applications in Industry](https://github.com/ashishpatel26/Real-time-ML-Project)\n",
        "\n",
        "<img src=\"https://github.com/firmai/industry-machine-learning/raw/master/assets/industry.png\" width=500, align=\"center\">\n",
        "\n",
        "- Desempenho, garantia de qualidade e rastreamento de defeitos\n",
        "- Manutenção preditiva e condicional\n",
        "- Previsão de demanda e rendimento\n",
        "- Cadeia de suprimentos e relações com fornecedores\n",
        "- Preços de mercado global\n",
        "- Automação e projeto de novas instalações\n",
        "- Novos processos e materiais para desenvolvimento de produtos e técnicas de produção\n",
        "- Sustentabilidade e maior eficiência energética\n",
        "\n",
        "Acesse [How is Data Science Used in Manufacturing?](https://www.sensrtrx.com/how-is-data-science-used-in-manufacturing-companies)"
      ],
      "metadata": {
        "id": "l-8IeiywVciz"
      }
    },
    {
      "cell_type": "markdown",
      "source": [
        "### Técnicas de EDA: \n"
      ],
      "metadata": {
        "id": "DuWqx1EZWq0u"
      }
    },
    {
      "cell_type": "markdown",
      "source": [
        "\n",
        "> * **Visualização univariada de cada campo no conjunto de dados, com estatísticas resumidas.**\n",
        "* **Visualizações bivariadas e estatísticas resumidas** que permitem avaliar a relação entre cada variável no conjunto de dados e uma variável objetivo.\n",
        "* **Visualizações multivariadas**, para mapear e compreender as interações entre os diferentes dados.\n",
        "* Modelos preditivos simples, como regressão linear\n",
        "* **Agrupamentos**, redução de dimensão e clusterização \n",
        "\n",
        "Os itens em negritos faram parte do nosso curso e vocês aprenderá a aplicar algumas dessas técnicas com Python."
      ],
      "metadata": {
        "id": "32QBAtxjWw1i"
      }
    },
    {
      "cell_type": "markdown",
      "metadata": {
        "id": "m2YKmZp5F9KP"
      },
      "source": [
        "## Cross Industry Standard Process for Data Mining (CRISP-DM)"
      ]
    },
    {
      "cell_type": "markdown",
      "metadata": {
        "id": "2VJrwupPV1_6"
      },
      "source": [
        "CRISP- DM é um modelo, que não depende de *software*, comumente empregado pelas empresas para análise de dados. Ele possui seis fases sequenciais: \n",
        "\n",
        "1.   **Compreensão do Negócio** - Qual é o problema a ser resolvido? \n",
        "2.   **Compreensão dos dados** - Que dados temos/precisamos? Possuem muitos ruídos?\n",
        "3.   **Preparação de dados** - Como organizamos os dados para a construção de modelos?\n",
        "4.   **Modelagem** - Quais técnicas de modelagem devemos aplicar?\n",
        "5.   **Avaliação** - Qual é o \"melhor\" modelo no sentido de atender aos objetivos do traçados?\n",
        "6.   **Desenvolvimento (implantação)** - Como as partes interessadas acessam os resultados?\n",
        "\n",
        "<br>\n",
        "<img src=\"http://www.orlandoalbarracin.com.br/phyton/CRISP.jpeg\" width=1000, align=\"center\">\n",
        "<br>\n",
        "<br>\n",
        "\n",
        "<font color='green'> Entendimento do negócio (Business Undersanting) </font>\n",
        "\n",
        "> Esta fase inicial concentra-se em compreender os **objetivos e requisitos do projeto ou problema** de uma perspectiva de negócios, em seguida, convertendo este conhecimento em uma definição de problema de mineração de dados e um plano preliminar projetado para alcançar os objetivos.\n",
        "Como qualquer projeto é uma fase fundamental para o sucesso do projeto, com o alinhamento das expectativas, definição dos recursos etc.\n",
        "\n",
        "<font color='green'>Entendimento dos dados (Data Undersanting) </font>\n",
        "\n",
        "> A fase de entendimento dos dados começa com a coleta de dados e segue com atividades que permitem que você familiarizar-se com os dados, identificar problemas de qualidade de dados, os primeiros insights sobre os dados e / ou detectar subconjuntos interessantes para formar hipóteses sobre informações ocultas.\n",
        "\n",
        ">É uma fase de modelos e hipóteses simples, mas que podem já fornecer muitas respostas relevantes ao problema tratado. Seu resultado pode ser tão importante que muitas vezes atribuímos  o nome  **EDA Exploratory Data Analysis** ao seu resultado, destacando como um produto final de análise.\n",
        "\n",
        "<font color='green'> Preparação de dados (Data preparation) </font>\n",
        "\n",
        "> A fase de preparação de dados incluir todas as atividades necessárias para tornar os dados adequados para a modelagem. As tarefas de preparação de dados provavelmente serão realizadas várias vezes e não em qualquer ordem prescrita. As tarefas incluem seleção de dados e atributos, transformações como normalização e recodificação dos dados, limpeza de dados (dados faltantes, ruídos, *outliers* etc.), merge de dados etc.\n",
        "\n",
        "> É importante destacar que, na prática, a atividade de modelagem tem **80% do esforço concentrado nas fases de Entendimento e Preparação dos Dados**. Isto é, não obstante o eventual *glamour* do Cientista de Dados, seu trabalho consiste, na maior parte do tempo, em coletar e manusear grandes conjuntos de dados.\n",
        "\n",
        "<font color='green'> Modelagem (Modelling) </font>\n",
        "\n",
        "> Nesta fase, várias técnicas de modelagem são selecionadas e aplicadas, e seus parâmetros são calibrados para otimizar valores. Normalmente, existem várias técnicas para o mesmo tipo de problema de mineração de dados. Algumas técnicas têm requisitos na forma de dados. Portanto, voltar à fase de preparação de dados geralmente é necessário. Essa é uma característica importante desse modelo de referência: **as fases não necessariamente seguem sempre em uma única direção**, pois achados em uma etapa posterior podem sempre implicar na necessidade de voltar em tarefas das etapas anteriores.\n",
        "\n",
        "<font color='green'> Avaliação (Evaluation) </font>\n",
        "\n",
        "> Nesta fase do projeto, você construiu um modelo (ou modelos) que parece ter alta qualidade a partir de uma análise de dados perspectiva. Antes de prosseguir para a implantação final do modelo, é importante avaliá-lo completamente e revisar as etapas executadas para criá-lo, para ter certeza de que o modelo atinja adequadamente os objetivos de negócios. \n",
        "\n",
        "> Para isso é necessário **empregar métricas** que permitam avaliar os modelos. Um exemplo conhecido é o empregar o coeficiente de determinação ($R2$) para avaliação de diferentes modelos de regressão linear, existindo métricas como acuracidade, erro etc. para outros tipos de modelos.  \n",
        "\n",
        "<font color='green'> Distribuição (Deployment) </font>\n",
        "\n",
        "> A criação do modelo geralmente não é o fim do projeto. Os resultados do modelo precisa ser organizado e apresentado de forma que possa ser usado. Isso\n",
        "frequentemente envolve a inclusão de modelos dentro dos processos de tomada de decisão de uma organização. \n",
        "\n",
        "> Isso pode envolver uma atividade simples de geração de um relatório em uma página Web até a implantação de diversos artefatos de software para coletar dados de compras de clientes e gerar recomendações automáticas no aplicativo de vendas para outros clientes. "
      ]
    },
    {
      "cell_type": "markdown",
      "metadata": {
        "id": "9ro0GiwgWCyu"
      },
      "source": [
        "Dois esforços nesse processo precisam ser destacados: a necessidade de uma boa comunicação e esforço desproporcional que temos para a obtenção dos dados corretos. \n",
        "\n",
        "> Um aspecto chave no sucesso de projeto de Ciência de Dados é ser capaz de comunicar a estória dos dados. Não há nenhum retorno do projeto se seus resultados, modelo e padrões não são comunicados de modo que os colegas não técnicos da organização não possam entender e estarem confortáveis com eles.\n",
        "\n",
        "O outro aspecto refere-se a obtenção dos dados corretos.\n",
        "\n",
        "\n",
        "\n"
      ]
    },
    {
      "cell_type": "markdown",
      "metadata": {
        "id": "2lmAQlNAGs4b"
      },
      "source": [
        "## Linguagens para Ciências de Dados"
      ]
    },
    {
      "cell_type": "markdown",
      "metadata": {
        "id": "NOL51R_EWR27"
      },
      "source": [
        "> Há uma ampla discussão sobre qual a melhor linguagem para Ciência de Dados. Mas essa é uma discussão que parece mais próxima de *qual é o melhor vinho? é o que você gosta*. Alguns critérios podem ajudam a definir Python & R como melhores linguagens que outras a Ciência de Dados, como curva de aprendizado, velocidade de processamento, capacidades de tratamento dos dados, capacidades gráficas e de visualização, confiabilidade no código, uso no mercado e comunidades etc. Todas essas características, embora no conjunto tornem Python e R mais adequadas para Ciência de Dados que outras linguagens de propósito geral (C, C++, Java, PHP, Pearl etc.), aparecem como muito similares quando comparadas as duas linguagens ou sem um consenso. Para dizer um mínimo, R tem capacidades gráficas e de visualização, e uma curva de aprendizado superiores para não programadores; Python, entretanto, vem sendo uma linguagem extremamente popular e grandes desenvolvimentos no aprendizado de máquina na última década, como *deep learning*, são desenvolvidos em Pyhton. O mais correto parece então decidir a *\"melhor linguagem\"* de acordo com a organização e propósito que será empregado.\n",
        "\n",
        "Ainda existem ferramentas do tipo **spreadsheet view of data**, ferramentas que acessam os dados em planilhas que podem ser imediatamente manipuladas pelos usuários (como Tableau, Qlik e outros) e ferramentas do tipo **drag-and-drop**, em que funções pré definidas podem ser arrastadas e coladas para compor um fluxo de processamento (como disponível em ferramentas como o SAS, SAS VA, Tableau, RapidMiner, Weka). Isso tem suas vantagens e desvantagens. Ferramentas visuais buscam aumentar a produtividade, mas o uso de linguagens de programação (código) em geral dá maior flexibilidade e permite maior reuso das soluções. Assim como no caso anterior o uso de uma solução ou outra deve ser analisada caso a caso, de acordo com a organização e propósito para que será empregada, sem necessariamente assumirmos que uma ou outra é a melhor solução.\n",
        "\n",
        "Além disso vamos lembrar que o mercado demanda, além das linguagens, skills que incluem SQL, Spark, Hadoop, Java, Serviços em Nuvem, Scala, Kafka etc.\n",
        "\n",
        "[comment]:<> (1. A análise de dados tem algumas características que a diferem do desenvolvimento mais tradicional de aplicações. Capacidades para desenvolvimento Web - frameworks, páginas responsivas, suporte Ajax etc. - ou aplicações Mobile, presentes em muitas linguagens, são em geral pouco necessárias para aplicações de Ciência de Dados. 2. É uma característica fundamental, presente no Python e no R, serem linguagens interpretadas e Open Source.)"
      ]
    },
    {
      "cell_type": "markdown",
      "metadata": {
        "id": "Bou6bnRcGhGu"
      },
      "source": [
        "### Linguagens para Ciências de Dados: Python e R"
      ]
    },
    {
      "cell_type": "markdown",
      "metadata": {
        "id": "c6aDoGZn72TN"
      },
      "source": [
        "\n",
        "\n",
        "Em Ciência de Dados, e no desenvolvimento com Python e R, é comum o emprego de ambientes do tipo notebook para o desenvolvimento de código aberto e serviços para computação interativa\n",
        "\n",
        "**Anaconda** \n",
        "\n",
        "> O Anaconda é uma ferramente computacional que permite gerir distribuições de Python, ambientes de trabalho e módulos. Contém mais de 720 pacotes open-source e corre nos sistemas operativos Windows, Mac OSX e Linux. \n",
        "\n",
        "> O Anaconda Navigator é uma interface gráfica que permite abrir aplicações associadas ao Anaconda, gerir pacotes, ambientes e canais \n",
        "\n",
        "**Ambientes computacionais:**\n",
        "\n",
        "Spyder\n",
        "> O Spyder é uma interface gráfica, semelhante ao Matlab, que permite a utilização de Python num ambiente interactivo, facilitando a edição de scripts, teste, debugging e visualização gráfica.\n",
        "\n",
        "O Jupyter Notebook\n",
        "> O Jupyter Notebook é um aplicativo da web de código aberto que permite criar e compartilhar documentos que contêm código ativo, equações, visualizações e texto narrativo.\n",
        "[*Jupyter Notebook Web*](https://hub.gke2.mybinder.org/user/jupyterlab-jupyterlab-demo-byrzrc7j) \n",
        "\n",
        "Google Colab\n",
        "> O Google Colaboratory é um ambiente de notebooks Jupyter que não requer configuração e é executado na nuvem.\n",
        " Escreva e execute códigos em Python, salve e compartilhe suas análises tudo gratuitamente no seu navegador.\n",
        "\n",
        "<font color='Orange'> Neste curso empregaremos o ambiente Google Colab </font> [*Google Colab*](https://colab.research.google.com/).\n",
        "\n"
      ]
    },
    {
      "cell_type": "markdown",
      "metadata": {
        "id": "rFJEEItOJNyE"
      },
      "source": [
        "# Conhecendo o ambiente"
      ]
    },
    {
      "cell_type": "markdown",
      "source": [
        "O Google Colaboratory é um ambiente de notebooks Jupyter que não requer configuração e é executado na nuvem."
      ],
      "metadata": {
        "id": "iCLKilxoh0P_"
      }
    },
    {
      "cell_type": "markdown",
      "metadata": {
        "id": "L2Tw_JWBJS_3"
      },
      "source": [
        "Há dois tipos de células:\n",
        "- Códido\n",
        "- Texto (Markdown)"
      ]
    },
    {
      "cell_type": "markdown",
      "metadata": {
        "id": "XmAPaLSeJmvm"
      },
      "source": [
        "## <font color='blue'> Célula Tipo texto </font>"
      ]
    },
    {
      "cell_type": "markdown",
      "metadata": {
        "id": "eNllRtnpKDLF"
      },
      "source": [
        "#### Usando \"*\" para ter diferentes tipos de *highlight*\n",
        "\n",
        "- **negrito**\n",
        "- *Itálico*\n",
        "- `ressaltar`\n",
        "\n",
        "---\n",
        "\n",
        "Usando \"#\" para criar seções\n",
        "\n",
        "- # Section\n",
        "- ## Subsection\n",
        "- ### Subsubsection  \n",
        "\n",
        "\n",
        "---\n",
        "\n",
        "Usando \"$\" para incluir expressões matemáticas elaboradas em `Latex`\n",
        "\n",
        "- $e^{i\\pi} + 1 = 0$\n",
        "- $\\dfrac{2x}{3}$\n",
        "\n",
        "---\n",
        "\n",
        "Usando \"*\" para criar listas \n",
        "\n",
        "* Capitulo 1\n",
        "    - Seção 1.1\n",
        "        - O capítulo...\n",
        "* Capítulo 2\n",
        "  - Sublist\n",
        "* Capítulo 3\n",
        "  - Sublist\n",
        "\n",
        "---\n",
        "\n"
      ]
    },
    {
      "cell_type": "markdown",
      "metadata": {
        "id": "kR2XFt36POxU"
      },
      "source": [
        "## <font color='Orange'> Célula Tipo Código </font>"
      ]
    },
    {
      "cell_type": "code",
      "metadata": {
        "id": "z8JtjCxsPXJz"
      },
      "source": [
        "# Esta é uma célula de código Python \n",
        "\n",
        "a=2\n",
        "b=3\n",
        "print(a+b)"
      ],
      "execution_count": null,
      "outputs": []
    },
    {
      "cell_type": "code",
      "metadata": {
        "id": "FfaEIpomPkpj"
      },
      "source": [
        "# Esta é uma célula de código Python \n",
        "\n",
        "name=input('Entre com o seu nome:') # A função input () permite obter texto escrito por teclado. \n",
        "print('Bem-vindo ', name, '!' )"
      ],
      "execution_count": null,
      "outputs": []
    },
    {
      "cell_type": "markdown",
      "metadata": {
        "id": "0jrpBFBYRNAF"
      },
      "source": [
        "# Analisando códigos\n",
        "\n",
        "Uma forma fácil de criar programas é a partir de exemplos. Isso será muito útil para nós no curso quando, para muitas funções, não precisamos entrar em todos os detalhes do código."
      ]
    },
    {
      "cell_type": "markdown",
      "source": [
        "Isso funciona de forma semelhante a muitas tarefas do seu dia a dia. As substituições permitem você chegar aos resultado abstraindo uma série de detalhes."
      ],
      "metadata": {
        "id": "eiKGYw0zdkIn"
      }
    },
    {
      "cell_type": "markdown",
      "source": [
        "### Analise os seguintes códigos"
      ],
      "metadata": {
        "id": "NbTP7dcxYl0V"
      }
    },
    {
      "cell_type": "code",
      "metadata": {
        "id": "ojl3FcTkRzhG"
      },
      "source": [
        "# Código 1\n",
        "print(list(range(1,30,2)))  # altere os números! "
      ],
      "execution_count": null,
      "outputs": []
    },
    {
      "cell_type": "code",
      "source": [
        "# Código 2\n",
        "\n",
        "import math \n",
        "math.sqrt(16)"
      ],
      "metadata": {
        "id": "cj5tPV518SgL"
      },
      "execution_count": null,
      "outputs": []
    },
    {
      "cell_type": "code",
      "metadata": {
        "id": "ZziEV3vASUnH"
      },
      "source": [
        "# Código 3\n",
        "\n",
        "import random\n",
        "\n",
        "lista=random.sample(range(10,31,1),5) # gera uma lista de 5 valores aleatórios entre 10 e 30\n",
        "print(lista)\n"
      ],
      "execution_count": null,
      "outputs": []
    },
    {
      "cell_type": "code",
      "metadata": {
        "id": "DjnOpk7uXlBI"
      },
      "source": [
        "# Código 4\n",
        "\n",
        "import random\n",
        "\n",
        "random.seed(100) # seed?\n",
        "\n",
        "lista=random.sample(range(10,31,1),5)\n",
        "print(lista)"
      ],
      "execution_count": null,
      "outputs": []
    },
    {
      "cell_type": "code",
      "metadata": {
        "id": "UVkCTtPxX6zK"
      },
      "source": [
        "# Código 5\n",
        "\n",
        "Notas = [2, 4.3, 5, 3.9, 8]\n",
        "\n",
        "for x in Notas:\n",
        "  print(x + 0.5) # Efetua a operação \"x+0.5\" e mostra o resultado"
      ],
      "execution_count": null,
      "outputs": []
    },
    {
      "cell_type": "code",
      "metadata": {
        "id": "bpNcjNFsZEau"
      },
      "source": [
        "# Código 6\n",
        "\n",
        "import numpy\n",
        "numpy.mod(17,2) #extraí o resto da divisão"
      ],
      "execution_count": null,
      "outputs": []
    },
    {
      "cell_type": "code",
      "source": [
        "# Código 7\n",
        "\n",
        "import numpy\n",
        "Valores = [1, 20, 31, 21, 30, 3, 5, 7]\n",
        "\n",
        "for x in Valores:         \n",
        "  if numpy.mod(x,2) == 0: # Se o número é par, então...\n",
        "    print(x)              # mostra o número"
      ],
      "metadata": {
        "id": "vBYztWyGaObq"
      },
      "execution_count": null,
      "outputs": []
    },
    {
      "cell_type": "code",
      "source": [
        "# Código 8\n",
        "\n",
        "Notas2 = [2, 4.3, 5, 3.9, 8, 7, 1, 10]\n",
        "aprovados=[]\n",
        "\n",
        "for x in Notas2:\n",
        "  if x>6:\n",
        "    aprovados.append(x) # append?\n",
        "\n",
        "print(aprovados)"
      ],
      "metadata": {
        "id": "EsVkmnWd_Sve"
      },
      "execution_count": null,
      "outputs": []
    },
    {
      "cell_type": "code",
      "source": [
        "# Código 9.\n",
        "\n",
        "Idade=int(input('Digite sua idade '))\n",
        "\n",
        "if Idade>= 18:\n",
        "  print(\"Você é maior de idade\" )\n",
        "else:\n",
        "  print(\"Você é menor de idade\" )"
      ],
      "metadata": {
        "id": "-O2__Zu2gYcd"
      },
      "execution_count": null,
      "outputs": []
    },
    {
      "cell_type": "markdown",
      "source": [
        "# Exercício"
      ],
      "metadata": {
        "id": "VIGi83-dbb6j"
      }
    },
    {
      "cell_type": "markdown",
      "source": [
        "Empregue os exemplos anteriores para criar um código com as seguintes características:\n",
        "\n",
        "1.   Gerar uma lista de 100 números, selecionados aleatóriamente entre 1 e 500.  (Use o seed(2022))\n",
        "\n",
        "2.   Usando a lista anterior de 100 valores, creie uma nova lista com os números pares.\n",
        "\n",
        "3.   Some os números pares dessa última lista"
      ],
      "metadata": {
        "id": "adwkVFBXboYb"
      }
    },
    {
      "cell_type": "code",
      "metadata": {
        "id": "dBvMLSf8Z-TF"
      },
      "source": [
        "# Seu código aqui\n"
      ],
      "execution_count": null,
      "outputs": []
    }
  ]
}