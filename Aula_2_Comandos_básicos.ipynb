{
  "nbformat": 4,
  "nbformat_minor": 0,
  "metadata": {
    "kernelspec": {
      "display_name": "Python 3",
      "language": "python",
      "name": "python3"
    },
    "language_info": {
      "codemirror_mode": {
        "name": "ipython",
        "version": 3
      },
      "file_extension": ".py",
      "mimetype": "text/x-python",
      "name": "python",
      "nbconvert_exporter": "python",
      "pygments_lexer": "ipython3",
      "version": "3.8.5"
    },
    "colab": {
      "name": "Aula_2_Comandos_básicos.ipynb",
      "provenance": [],
      "collapsed_sections": [
        "3-UzE3HaDERW",
        "Ucynb9DJQoCI",
        "o7NdYLes6adb",
        "aQgXP25l7PVH",
        "EaTlLDFb-6yB",
        "fbLGr-dl_Chb",
        "ownZyNdi_J8d",
        "X9J0jSmLJ1Ud",
        "xNm6zSg_DZwN",
        "v89L7y_9KeJD",
        "2f_tGywT7u_v",
        "4-V1mc8bB985",
        "35lub0lpFG5r",
        "mxBd3v80pZ5E",
        "zTUQxEVkMevI",
        "b1EVITF8PG7m",
        "SMXsCjZJXZ5T",
        "4sWGxF5OPJd7",
        "h8oez1O_Q4wO"
      ],
      "include_colab_link": true
    }
  },
  "cells": [
    {
      "cell_type": "markdown",
      "metadata": {
        "id": "view-in-github",
        "colab_type": "text"
      },
      "source": [
        "<a href=\"https://colab.research.google.com/github/gustavogrds/analise_dados_mack/blob/main/Aula_2_Comandos_ba%CC%81sicos.ipynb\" target=\"_parent\"><img src=\"https://colab.research.google.com/assets/colab-badge.svg\" alt=\"Open In Colab\"/></a>"
      ]
    },
    {
      "cell_type": "markdown",
      "metadata": {
        "id": "8wnyRJjEVSvB"
      },
      "source": [
        "<head>\n",
        "  <meta name=\"author\" content=\"Orlando\">\n",
        "  <meta institution=\"author\" content=\"Universidade Presbiteriana Mackenzie\">\n",
        "</head>\n",
        "\n",
        "<img src=\"http://www.orlandoalbarracin.com.br/phyton/mackenzie-logo.png\" width=300, align=\"left\">\n",
        "<!-- <h1 align=left><font size = 6, style=\"color:rgb(200,0,0)\"> optional title </font></h1> -->\n",
        "\n",
        "\n"
      ]
    },
    {
      "cell_type": "markdown",
      "metadata": {
        "id": "fJKTMpbTcF27"
      },
      "source": [
        "# Introdução\n",
        "\n",
        "Nesta introdução de Python para Ciência de Dados vamos aprender apenas um conjunto de recursos mínimos que serão necessários para fazermos a maior parte de nossas análises no curso."
      ]
    },
    {
      "cell_type": "markdown",
      "metadata": {
        "id": "3-UzE3HaDERW"
      },
      "source": [
        "## Variáveis de tipo numérico \n",
        "inteiro (int)\\\n",
        "ponto flutuante (float) \\\n",
        "booleano (bool)"
      ]
    },
    {
      "cell_type": "code",
      "metadata": {
        "id": "9DNMfcNBDERZ"
      },
      "source": [
        "#Inteiro\n",
        "\n",
        "a=10\n",
        "print(a)\n",
        "type(a)"
      ],
      "execution_count": null,
      "outputs": []
    },
    {
      "cell_type": "code",
      "metadata": {
        "id": "l6kIiTLJDERa"
      },
      "source": [
        "# Números reais\n",
        "\n",
        "b=9.2\n",
        "print(b)\n",
        "type(b)"
      ],
      "execution_count": null,
      "outputs": []
    },
    {
      "cell_type": "code",
      "metadata": {
        "id": "2iI6zxWSDERa"
      },
      "source": [
        "# Booleano (Falso; Verdadeiro)\n",
        "\n",
        "a=2\n",
        "b=3\n",
        "\n",
        "c=a>b\n",
        "print(c) #0: Falso;  1: Verdadeiro\n",
        "type(c)"
      ],
      "execution_count": null,
      "outputs": []
    },
    {
      "cell_type": "markdown",
      "source": [
        "### Operadores e funções!"
      ],
      "metadata": {
        "id": "Ucynb9DJQoCI"
      }
    },
    {
      "cell_type": "markdown",
      "metadata": {
        "id": "ncBw8UHcDERb"
      },
      "source": [
        "<font color='blue'> Operadores aritméticos</font>\n",
        "\n",
        "Soma (+) \\\n",
        "Diferença (Subtração) (-) \\\n",
        "Multiplicação ( * ) \\\n",
        "Divisão (/) \\\n",
        "Divisão inteira (//) O resultado da divisão é truncado para inteiro imediatamente inferior \\\n",
        "Módulo (%) \\\n",
        "Potência (**) \\\n",
        "\n",
        "\n",
        "<font color='blue'> Operadores lógicos</font>\n",
        "\n",
        "\n",
        "Maior (>) \\\n",
        "Menor (<) \\\n",
        "Maior ou igual (>=) \\\n",
        "Menor ou igual (<=) \\\n",
        "Igual (==) \\\n",
        "Diferente (!=)\n",
        "\n",
        "\n",
        "<font color='blue'> Funções para tipos numéricos </font>\n",
        "\n",
        "abs(): Retorna o valor absoluto do número. \\\n",
        "pow(): Eleva um número por outro. \\\n",
        "round(): Retorna um número real com o arredondamento especificado."
      ]
    },
    {
      "cell_type": "markdown",
      "source": [
        "<font color='red'> Exemplos! </font>"
      ],
      "metadata": {
        "id": "c7USfHz_DERc"
      }
    },
    {
      "cell_type": "code",
      "source": [
        "# Usando operadores!\n",
        "\n",
        "\n",
        "print(2+3)\n",
        "print(2==3) # print (falso)\n",
        "print(abs(-4))\n",
        "print(9//2)\n",
        "print(round(2.31848484,3))\n",
        "print(pow(2,5))"
      ],
      "metadata": {
        "id": "QmNqT9FtEhVV"
      },
      "execution_count": null,
      "outputs": []
    },
    {
      "cell_type": "markdown",
      "metadata": {
        "id": "o7NdYLes6adb"
      },
      "source": [
        "## Variáveis de tipo texto (String)"
      ]
    },
    {
      "cell_type": "code",
      "metadata": {
        "id": "LCpfiCOyDERc"
      },
      "source": [
        "nome='Orlando Albarracín'\n",
        "nac= \"Colombiano\"\n",
        "idade= \"33 anos\"\n",
        "\n",
        "print(\"nome:\",nome,\"; Nacionalidade:\", nac,\"; Idade:\",idade)"
      ],
      "execution_count": null,
      "outputs": []
    },
    {
      "cell_type": "code",
      "source": [
        "# Funções interessantes e úteis!\n",
        "\n",
        "print(\"São Paulo\".lower())\n",
        "print(\"São Paulo\".upper())\n"
      ],
      "metadata": {
        "id": "PnXZbLIp5xQo"
      },
      "execution_count": null,
      "outputs": []
    },
    {
      "cell_type": "code",
      "metadata": {
        "id": "cKrq_riXFTes"
      },
      "source": [
        "# Funções interessantes e úteis!\n",
        "\n",
        "\"Você está aprovado\".replace('aprovado','reprovado')"
      ],
      "execution_count": null,
      "outputs": []
    },
    {
      "cell_type": "code",
      "source": [
        "# Funções interessantes e úteis!\n",
        "\n",
        "\"Você está aprovado\".split()"
      ],
      "metadata": {
        "id": "UZF8SEi5pqOh"
      },
      "execution_count": null,
      "outputs": []
    },
    {
      "cell_type": "markdown",
      "metadata": {
        "id": "aQgXP25l7PVH"
      },
      "source": [
        "## Bibliotecas\n",
        "\n",
        "O *import* de bibliotecas permite estender o Python adicionando módulos e funções úteis que podem inclusive reduzir o uso de código no programa. As bibliotecas mais utilizadas para análise de dados com Python são:\n",
        "\n",
        "\n",
        "```\n",
        "1. Random: Permite gerar números aleatórios, embaralhar listas e sortear item de sequências.\n",
        "2. Numpy: Fornece várias funções e operações que ajudam a executar cálculos numéricos com facilidade.\n",
        "3. Pandas: Facilita explorar a manipulação, leitura e visualização de dados\n",
        "4. MatplotLib: Permite a visualização de dados do Python\n",
        "```\n",
        "\n"
      ]
    },
    {
      "cell_type": "markdown",
      "source": [
        "**Importando bibliotecas:**\n",
        "\n",
        "```\n",
        "import numpy\n",
        "import numpy as np\n",
        "from numpy import mean \n",
        "from numpy import mean as media\n",
        "```\n",
        "\n",
        "Acesse: [Biblioteca padrão de Python](https://docs.python.org/pt-br/3/library/ )"
      ],
      "metadata": {
        "id": "9oL2yDc9X0_L"
      }
    },
    {
      "cell_type": "markdown",
      "metadata": {
        "id": "EaTlLDFb-6yB"
      },
      "source": [
        "### Random"
      ]
    },
    {
      "cell_type": "code",
      "metadata": {
        "id": "QjE3xAb09Ml5"
      },
      "source": [
        "#Algumas funções da Biblioteca random\n",
        "\n",
        "import random\n",
        "\n",
        "print(random.randrange(10,20,1))\n",
        "print(random.sample(range(0,10,1),3))\n",
        "print(random.randint(1,10))\n",
        "print(random.normalvariate(300,10))"
      ],
      "execution_count": null,
      "outputs": []
    },
    {
      "cell_type": "markdown",
      "metadata": {
        "id": "fbLGr-dl_Chb"
      },
      "source": [
        "### Numpy"
      ]
    },
    {
      "cell_type": "code",
      "metadata": {
        "id": "-pAJdKN3M8Yc"
      },
      "source": [
        "#Algumas funções da Biblioteca Numpy\n",
        "\n",
        "import numpy as np\n",
        "\n",
        "notas=[3.9,6.8,7.5,10,6.5,8,7.2,6.5,10,9.4] \n",
        "\n",
        "print(notas[1]) # valor na posição 1\n",
        "print(len(notas)) # comprimento\n",
        "print(np.mean(notas)) # média\n",
        "print(np.std(notas)) #desvio padrão\n",
        "print(np.mod(5,2)) # resto\n",
        "\n",
        "\n",
        "print(\"A nota média do curso foi\", np.mean(notas), \"com desvio padrão de\",np.std(notas))\n",
        "print(\"A nota média do curso foi\", np.mean(notas), \"com desvio padrão de\", round(np.std(notas),4) )\n"
      ],
      "execution_count": null,
      "outputs": []
    },
    {
      "cell_type": "markdown",
      "metadata": {
        "id": "ownZyNdi_J8d"
      },
      "source": [
        "### Pandas"
      ]
    },
    {
      "cell_type": "code",
      "metadata": {
        "id": "MOiWPdJwGNFg",
        "colab": {
          "base_uri": "https://localhost:8080/",
          "height": 206
        },
        "outputId": "1281955b-3ffc-4a1d-e878-0cdce65bff18"
      },
      "source": [
        "#Algumas funções da Biblioteca Pandas\n",
        "\n",
        "import pandas as pd\n",
        "\n",
        "altura=[176.7,168.9,164.6,180.2,165.6]\n",
        "nomes=[\"andré\",\"Camila\",\"Andrea\",\"Fernando\", \"Thiago\"]\n",
        "pd.DataFrame(altura,index=nomes,columns=['altura (cm)'])\n"
      ],
      "execution_count": null,
      "outputs": [
        {
          "output_type": "execute_result",
          "data": {
            "text/plain": [
              "          altura (cm)\n",
              "andré           176.7\n",
              "Camila          168.9\n",
              "Andrea          164.6\n",
              "Fernando        180.2\n",
              "Thiago          165.6"
            ],
            "text/html": [
              "\n",
              "  <div id=\"df-414b6f93-4897-447a-b580-3839b98095b9\">\n",
              "    <div class=\"colab-df-container\">\n",
              "      <div>\n",
              "<style scoped>\n",
              "    .dataframe tbody tr th:only-of-type {\n",
              "        vertical-align: middle;\n",
              "    }\n",
              "\n",
              "    .dataframe tbody tr th {\n",
              "        vertical-align: top;\n",
              "    }\n",
              "\n",
              "    .dataframe thead th {\n",
              "        text-align: right;\n",
              "    }\n",
              "</style>\n",
              "<table border=\"1\" class=\"dataframe\">\n",
              "  <thead>\n",
              "    <tr style=\"text-align: right;\">\n",
              "      <th></th>\n",
              "      <th>altura (cm)</th>\n",
              "    </tr>\n",
              "  </thead>\n",
              "  <tbody>\n",
              "    <tr>\n",
              "      <th>andré</th>\n",
              "      <td>176.7</td>\n",
              "    </tr>\n",
              "    <tr>\n",
              "      <th>Camila</th>\n",
              "      <td>168.9</td>\n",
              "    </tr>\n",
              "    <tr>\n",
              "      <th>Andrea</th>\n",
              "      <td>164.6</td>\n",
              "    </tr>\n",
              "    <tr>\n",
              "      <th>Fernando</th>\n",
              "      <td>180.2</td>\n",
              "    </tr>\n",
              "    <tr>\n",
              "      <th>Thiago</th>\n",
              "      <td>165.6</td>\n",
              "    </tr>\n",
              "  </tbody>\n",
              "</table>\n",
              "</div>\n",
              "      <button class=\"colab-df-convert\" onclick=\"convertToInteractive('df-414b6f93-4897-447a-b580-3839b98095b9')\"\n",
              "              title=\"Convert this dataframe to an interactive table.\"\n",
              "              style=\"display:none;\">\n",
              "        \n",
              "  <svg xmlns=\"http://www.w3.org/2000/svg\" height=\"24px\"viewBox=\"0 0 24 24\"\n",
              "       width=\"24px\">\n",
              "    <path d=\"M0 0h24v24H0V0z\" fill=\"none\"/>\n",
              "    <path d=\"M18.56 5.44l.94 2.06.94-2.06 2.06-.94-2.06-.94-.94-2.06-.94 2.06-2.06.94zm-11 1L8.5 8.5l.94-2.06 2.06-.94-2.06-.94L8.5 2.5l-.94 2.06-2.06.94zm10 10l.94 2.06.94-2.06 2.06-.94-2.06-.94-.94-2.06-.94 2.06-2.06.94z\"/><path d=\"M17.41 7.96l-1.37-1.37c-.4-.4-.92-.59-1.43-.59-.52 0-1.04.2-1.43.59L10.3 9.45l-7.72 7.72c-.78.78-.78 2.05 0 2.83L4 21.41c.39.39.9.59 1.41.59.51 0 1.02-.2 1.41-.59l7.78-7.78 2.81-2.81c.8-.78.8-2.07 0-2.86zM5.41 20L4 18.59l7.72-7.72 1.47 1.35L5.41 20z\"/>\n",
              "  </svg>\n",
              "      </button>\n",
              "      \n",
              "  <style>\n",
              "    .colab-df-container {\n",
              "      display:flex;\n",
              "      flex-wrap:wrap;\n",
              "      gap: 12px;\n",
              "    }\n",
              "\n",
              "    .colab-df-convert {\n",
              "      background-color: #E8F0FE;\n",
              "      border: none;\n",
              "      border-radius: 50%;\n",
              "      cursor: pointer;\n",
              "      display: none;\n",
              "      fill: #1967D2;\n",
              "      height: 32px;\n",
              "      padding: 0 0 0 0;\n",
              "      width: 32px;\n",
              "    }\n",
              "\n",
              "    .colab-df-convert:hover {\n",
              "      background-color: #E2EBFA;\n",
              "      box-shadow: 0px 1px 2px rgba(60, 64, 67, 0.3), 0px 1px 3px 1px rgba(60, 64, 67, 0.15);\n",
              "      fill: #174EA6;\n",
              "    }\n",
              "\n",
              "    [theme=dark] .colab-df-convert {\n",
              "      background-color: #3B4455;\n",
              "      fill: #D2E3FC;\n",
              "    }\n",
              "\n",
              "    [theme=dark] .colab-df-convert:hover {\n",
              "      background-color: #434B5C;\n",
              "      box-shadow: 0px 1px 3px 1px rgba(0, 0, 0, 0.15);\n",
              "      filter: drop-shadow(0px 1px 2px rgba(0, 0, 0, 0.3));\n",
              "      fill: #FFFFFF;\n",
              "    }\n",
              "  </style>\n",
              "\n",
              "      <script>\n",
              "        const buttonEl =\n",
              "          document.querySelector('#df-414b6f93-4897-447a-b580-3839b98095b9 button.colab-df-convert');\n",
              "        buttonEl.style.display =\n",
              "          google.colab.kernel.accessAllowed ? 'block' : 'none';\n",
              "\n",
              "        async function convertToInteractive(key) {\n",
              "          const element = document.querySelector('#df-414b6f93-4897-447a-b580-3839b98095b9');\n",
              "          const dataTable =\n",
              "            await google.colab.kernel.invokeFunction('convertToInteractive',\n",
              "                                                     [key], {});\n",
              "          if (!dataTable) return;\n",
              "\n",
              "          const docLinkHtml = 'Like what you see? Visit the ' +\n",
              "            '<a target=\"_blank\" href=https://colab.research.google.com/notebooks/data_table.ipynb>data table notebook</a>'\n",
              "            + ' to learn more about interactive tables.';\n",
              "          element.innerHTML = '';\n",
              "          dataTable['output_type'] = 'display_data';\n",
              "          await google.colab.output.renderOutput(dataTable, element);\n",
              "          const docLink = document.createElement('div');\n",
              "          docLink.innerHTML = docLinkHtml;\n",
              "          element.appendChild(docLink);\n",
              "        }\n",
              "      </script>\n",
              "    </div>\n",
              "  </div>\n",
              "  "
            ]
          },
          "metadata": {},
          "execution_count": 11
        }
      ]
    },
    {
      "cell_type": "markdown",
      "metadata": {
        "id": "X9J0jSmLJ1Ud"
      },
      "source": [
        "## Estruturas condicionais e de repetição\n"
      ]
    },
    {
      "cell_type": "markdown",
      "source": [
        "### <font color='green'> IF ELSE </font> \n",
        "\n",
        "Utilizamos o comando `if` para verificar uma expressão e executar um bloco de código, indentado, caso a condição definida seja verdadeira. O comando `else ` é utilizado para executar um bloco de código, indentado, caso o resultado da expressão informada na instrução `if` seja falso. \n",
        "\n",
        "```\n",
        "if (condição):\n",
        "    código a ser executado \n",
        "else:\n",
        "    código a ser executado\n",
        "```\n"
      ],
      "metadata": {
        "id": "xNm6zSg_DZwN"
      }
    },
    {
      "cell_type": "markdown",
      "source": [
        "Note que em Python as instruções aninhadas são **identadas** (*tab*), o que corresponde ao `{}` de linguagens como Java e C. Assim os comandos *aninhados* à condição ou laço do programa devem estar à direita do comando inicial da condição ou laço."
      ],
      "metadata": {
        "id": "EfPFWebgG8jL"
      }
    },
    {
      "cell_type": "code",
      "source": [
        "# Exemplo 1\n",
        "\n",
        "x = int(input(\"Digite sua nota: \"))\n",
        "\n",
        "if (x >= 6):\n",
        "  print(\"Você está aprovado\")\n",
        "else:\n",
        "  print(\"Você está reprovado\")"
      ],
      "metadata": {
        "id": "9No20Rz3EJk6"
      },
      "execution_count": null,
      "outputs": []
    },
    {
      "cell_type": "code",
      "source": [
        "# Exemplo 2 (ELIF)\n",
        "\n",
        "# O comando elif é utilizado quando queremos realizar a verificação de outra expressão caso a primeira validação seja falsa. \n",
        "\n",
        "x = 20\n",
        "y = 10\n",
        "\n",
        "if (x < y):\n",
        "  print(\"x é menor que y\")\n",
        "elif (x > y):\n",
        "  print(\"x é maior que y\")\n",
        "else:\n",
        "  print(\"x é igual a y\")"
      ],
      "metadata": {
        "colab": {
          "base_uri": "https://localhost:8080/"
        },
        "id": "1eOBQBAgJHLg",
        "outputId": "f9589365-0347-48f9-e940-8169f5b362f6"
      },
      "execution_count": null,
      "outputs": [
        {
          "output_type": "stream",
          "name": "stdout",
          "text": [
            "x é maior que y\n"
          ]
        }
      ]
    },
    {
      "cell_type": "markdown",
      "source": [
        "### Exercício\n"
      ],
      "metadata": {
        "id": "v89L7y_9KeJD"
      }
    },
    {
      "cell_type": "markdown",
      "source": [
        "Escreva\t um\t programa\t que\t verifique\t a\t validade\t de\t uma\t senha\t(de 4 digitos) fornecida\tpelo\t usuário.\t Assuma que a senha\t válida\t é 1234.\n",
        "\n",
        "Devem\t ser\timpressas\t as\tseguintes\tmensagens:\t\n",
        "\n",
        "*   ACESSO\tPERMITIDO,\tcaso\ta\tsenha\tseja\tválida.\t\n",
        "*   ACESSO BLOQUEADO, caso a senha digitada seja 0000.\n",
        "*   ACESSO\tNEGADO,\tcaso\tcontrário."
      ],
      "metadata": {
        "id": "56d3GHR7G20C"
      }
    },
    {
      "cell_type": "code",
      "source": [
        "## Digite seu código\n"
      ],
      "metadata": {
        "id": "BBPIERSd8d8Q"
      },
      "execution_count": null,
      "outputs": []
    },
    {
      "cell_type": "markdown",
      "source": [
        "### <font color='red'> FOR </font> \n",
        "\n",
        "A estrutura de repetição `for` permite executar um bloco de códigos repetidas vezes. Na linguagem Python, ela é utilizada para percorrer elementos em sequência, como uma *string*, uma lista ou objetos iteráveis.\n",
        "\n",
        "Obs. Um objeto iterável é aquele que tem a capacidade de retornar cada um de seus elementos de forma individual. \n",
        "\n",
        "\n",
        "\n",
        "```\n",
        "for <var> in <objeto iterável>:\n",
        "    código a ser executado\n",
        "```\n",
        "\n"
      ],
      "metadata": {
        "id": "2f_tGywT7u_v"
      }
    },
    {
      "cell_type": "code",
      "source": [
        "#Exemplo 1\n",
        "\n",
        "lista=[4.1,5,0.8,4.9,5.1,5.7]\n",
        "\n",
        "for i in lista:\n",
        "  print(i)"
      ],
      "metadata": {
        "id": "1s5IWJmx7Tcp"
      },
      "execution_count": null,
      "outputs": []
    },
    {
      "cell_type": "code",
      "source": [
        "# Exemplo 2\n",
        "\n",
        "for i in lista:\n",
        "  if i>4.5 and i<5.5:\n",
        "    print(\"peça boa\", i)\n",
        "  else:\n",
        "    print(\"peça ruim\", i)"
      ],
      "metadata": {
        "id": "ooFcrqQ29qYK"
      },
      "execution_count": null,
      "outputs": []
    },
    {
      "cell_type": "code",
      "source": [
        "# Exemplo 3\n",
        "\n",
        "palavra = \"Estudar Python é legal\"\n",
        "for letra in palavra:\n",
        "    print(letra)"
      ],
      "metadata": {
        "id": "K_0xkd-W-qtG"
      },
      "execution_count": null,
      "outputs": []
    },
    {
      "cell_type": "markdown",
      "source": [
        "### Exercício\n",
        "\n",
        "Faça um programa, utilizando `for`, que peça para o usuário inserir um número e mostre na tela todos os números ímpares até esse número."
      ],
      "metadata": {
        "id": "21rPMjAB_LLU"
      }
    },
    {
      "cell_type": "code",
      "source": [
        "# Digite seu código\n"
      ],
      "metadata": {
        "id": "zBsn3rCY_yP5"
      },
      "execution_count": null,
      "outputs": []
    },
    {
      "cell_type": "markdown",
      "source": [
        "### <font color='blue'> WHILE </font> \n",
        "\n",
        "É uma estruturaa de repetição que permite executar um bloco de códigos enquanto uma determinada condição for verdadeira.\n",
        "\n",
        "\n",
        "\n",
        "```\n",
        "while < condição >: \n",
        "  código a ser executado\n",
        "```\n",
        "\n"
      ],
      "metadata": {
        "id": "4-V1mc8bB985"
      }
    },
    {
      "cell_type": "code",
      "source": [
        "# Exemplo 1\n",
        "\n",
        "votos = 0\n",
        "\n",
        "while votos < 6:\n",
        "  votos = votos + 1 \n",
        "  print(votos)"
      ],
      "metadata": {
        "id": "bUwtpMbLCqbq"
      },
      "execution_count": null,
      "outputs": []
    },
    {
      "cell_type": "code",
      "source": [
        "# Exemplo 2\n",
        "\n",
        "nums = []\n",
        "while len(nums) < 4:\n",
        "    entrada = int(input(\"Insira um número inteiro diferente de zero: \"))\n",
        "    if entrada != 0:\n",
        "        nums.append(entrada)\n",
        "    print(nums)"
      ],
      "metadata": {
        "id": "l1gVBqC-DoYt"
      },
      "execution_count": null,
      "outputs": []
    },
    {
      "cell_type": "markdown",
      "source": [
        "### Exercício\n",
        "\n",
        "Faça um programa, utilizando `while`, em que o usuário deverá digitar uma senha e confirmá-la. Finalizar o programa quando as senhas sejam iguais, caso contrário peça para digitar novamente a senha e confirmá-la.\n"
      ],
      "metadata": {
        "id": "35lub0lpFG5r"
      }
    },
    {
      "cell_type": "code",
      "source": [
        "# Seu código\n",
        "\n",
        "print(\"Confirmação de senha\")\n",
        "senha1 = input(\"Digite a senha: \")\n",
        "senha2 = input(\"Confirme a senha: \")\n"
      ],
      "metadata": {
        "id": "a9AAK9x4FjO9"
      },
      "execution_count": null,
      "outputs": []
    },
    {
      "cell_type": "markdown",
      "metadata": {
        "id": "mxBd3v80pZ5E"
      },
      "source": [
        "### <font color='IndianRed'> Os operadores booleanos </font>\n",
        "\n",
        "Podemos construir condições mais complexas utilizando os operadores lógicos. Eles são: \\\n",
        "\n",
        "<font color='DarkCyan'> and </font>\n",
        "Retorna um valor verdadeiro se receber duas expressões que forem verdadeiras.\\\n",
        "<font color='DarkCyan'> or  </font>\t \t      Retorna um valor falso se receber duas expressões que forem falsas. \\\n",
        "<font color='DarkCyan'> not </font>\t \tRetorna falso se receber uma expressão verdadeira e vice-versa.\\\n",
        "<font color='DarkCyan'> in </font>\t \t Retorna verdadeiro se ao receber um item e uma lista o item está uma (ou mais vezes) na lista, e falso em caso contrário."
      ]
    },
    {
      "cell_type": "code",
      "source": [
        "# Exemplo 1\n",
        "\n",
        "print('1. Idoso')\n",
        "print('2. Gestante')\n",
        "print('3. Cadeirante')\n",
        "print('4. Nenhum destes')\n",
        "resposta=int( input('Você é: ') )\n",
        "\n",
        "if (resposta==1) or (resposta==2) or (resposta==3) :\n",
        "    print('Fila prioritária')\n",
        "else:\n",
        "    print('Fila não preferencial')"
      ],
      "metadata": {
        "id": "ZeCLBGqwJNSU"
      },
      "execution_count": null,
      "outputs": []
    },
    {
      "cell_type": "code",
      "source": [
        "# Exemplo 2\n",
        "\n",
        "time = input('Qual time você torce? ')\n",
        "\n",
        "if not time==\"dragões\":\n",
        "    print('Boa! é o melhor')\n",
        "else:\n",
        "    print('Recomendo trocar de time')"
      ],
      "metadata": {
        "id": "1l-Hkd0JKYhl"
      },
      "execution_count": null,
      "outputs": []
    },
    {
      "cell_type": "markdown",
      "source": [
        "## Exercícios!"
      ],
      "metadata": {
        "id": "zTUQxEVkMevI"
      }
    },
    {
      "cell_type": "markdown",
      "source": [
        "### Exercício 1"
      ],
      "metadata": {
        "id": "b1EVITF8PG7m"
      }
    },
    {
      "cell_type": "markdown",
      "source": [
        "Tendo\tcomo entrada a altura (em cm)\te\t o\tsexo\t(codificado\t da\t seguinte\t forma:\t1:masculino  2:feminino\t)\t de\t uma\t pessoa,\t construa\t um\t programa\t que\tcalcule\te\timprima\tseu\tpeso recomendado,\tutilizando\tas\tseguintes\tfórmulas:\t\n",
        "\n",
        "- Masculino: 52 + (0.75 × (altura - 152.4)\n",
        "- Feminino:  52 + (0.67 × (altura - 152.4)"
      ],
      "metadata": {
        "id": "vt3qbU2wNbUE"
      }
    },
    {
      "cell_type": "code",
      "source": [
        "# Seu código\n",
        "\n",
        "altura= int(input(\"Digite sua altura em cm \"))\n",
        "sexo= int(input(\"Digite o número correpondente: 1-Masculino; 2- Feminíno \"))\n"
      ],
      "metadata": {
        "id": "tbA9En0RNazj"
      },
      "execution_count": null,
      "outputs": []
    },
    {
      "cell_type": "markdown",
      "source": [
        "#### Exercício 1b\n",
        "\n",
        "Considere a seguinte lista de alturas e sexos!"
      ],
      "metadata": {
        "id": "SMXsCjZJXZ5T"
      }
    },
    {
      "cell_type": "code",
      "source": [
        "import numpy\n",
        "from numpy import random\n",
        "\n",
        "random.seed(2022)\n",
        "Alturas = random.choice(range(120, 210), 160)\n",
        "Sexos=random.choice(numpy.array([1,2]), 160)\n",
        "\n",
        "print(Alturas)\n",
        "print(Sexos)"
      ],
      "metadata": {
        "id": "zLka1FtRWg5e"
      },
      "execution_count": null,
      "outputs": []
    },
    {
      "cell_type": "markdown",
      "source": [
        "\n",
        "Qual é o peso recomendado para um pessoa cuja altura e sexo são, respectivamente, os valores que estão na posição 65 e 120 das listas Alturas e Sexos (definidas acima)."
      ],
      "metadata": {
        "id": "xi-7v2NvWepo"
      }
    },
    {
      "cell_type": "code",
      "source": [
        "# Seu código"
      ],
      "metadata": {
        "id": "oHxzlBvScbpc"
      },
      "execution_count": null,
      "outputs": []
    },
    {
      "cell_type": "markdown",
      "source": [
        "### Exercício 2"
      ],
      "metadata": {
        "id": "4sWGxF5OPJd7"
      }
    },
    {
      "cell_type": "markdown",
      "source": [
        "Faça um programa que receba do usuário a temperatura média de cada mês de certo ano e armazene-as em uma lista. Após isto, calcule a temperatura média anual e mostre todas as temperaturas acima da média anual e em que mês elas ocorreram."
      ],
      "metadata": {
        "id": "mMYhtXdkPPpH"
      }
    },
    {
      "cell_type": "code",
      "source": [
        "# Seu código\n",
        "\n",
        "Temperaturas = []\n",
        "\n"
      ],
      "metadata": {
        "id": "h3jqT6RcPO4Z"
      },
      "execution_count": null,
      "outputs": []
    },
    {
      "cell_type": "code",
      "source": [
        ""
      ],
      "metadata": {
        "id": "WBeGqTXlgQ3H"
      },
      "execution_count": null,
      "outputs": []
    },
    {
      "cell_type": "markdown",
      "source": [
        "#### Exercício 2b"
      ],
      "metadata": {
        "id": "vhv1C9_5iMDC"
      }
    },
    {
      "cell_type": "markdown",
      "source": [
        "Considere a seguinte lista de temperaturas (em graus celius)"
      ],
      "metadata": {
        "id": "tOGT9s7hwHLe"
      }
    },
    {
      "cell_type": "code",
      "source": [
        "from numpy import random\n",
        "\n",
        "random.seed(100)\n",
        "Temperaturas2= list(random.choice(numpy.arange (10,37,0.1), 50))\n",
        "print(Temperaturas2)"
      ],
      "metadata": {
        "id": "2H-iPiEjiO31"
      },
      "execution_count": null,
      "outputs": []
    },
    {
      "cell_type": "markdown",
      "source": [
        "Percorrer os elementos de \"Temperaturas2\", quando encontrado o primeiro valor maior que 25, selecione os seguintes 12 primeiros valores. Assuma que esses valores correspondem às temperaturas médias mensais de certo ano. Em quais meses, a temperatura foi maior que a temperatura anual?"
      ],
      "metadata": {
        "id": "5Ywy6aHWj5Cy"
      }
    },
    {
      "cell_type": "code",
      "source": [
        "# Seu código\n",
        "\n"
      ],
      "metadata": {
        "id": "UgQlqno8iaej"
      },
      "execution_count": null,
      "outputs": []
    },
    {
      "cell_type": "code",
      "source": [
        ""
      ],
      "metadata": {
        "id": "ZbyttJoqoD2s"
      },
      "execution_count": null,
      "outputs": []
    },
    {
      "cell_type": "markdown",
      "source": [
        "### Exercício 3"
      ],
      "metadata": {
        "id": "h8oez1O_Q4wO"
      }
    },
    {
      "cell_type": "markdown",
      "source": [
        "O código abaixo mostra a bibliografica do escrito colombiano Gabriel Gárcia Márquez.\n",
        "\n",
        "Usando essa bibliografica, conte o número de vezes que aparece a letra \"m\" (não importa se está maiúscula ou minúscula)."
      ],
      "metadata": {
        "id": "cZhgUBfJRB22"
      }
    },
    {
      "cell_type": "code",
      "source": [
        "#@markdown Gabriel Garcia Márquez\n",
        "\n",
        "import urllib.request  # the lib that handles the url stuff\n",
        "texto = []\n",
        "link='https://www.orlandoalbarracin.com.br/phyton/Gabriel.txt'\n",
        "for line in urllib.request.urlopen(link): \n",
        "    texto.append(line.decode('utf-8')) #print(line.decode('utf-8')) #utf-8 or iso8859-1\n",
        "\n",
        "#Elimando vírgulas, parênteses,...\n",
        "\n",
        "txt=str(texto)\n",
        "Bibliografia=txt.replace(\"\\\\r\\\\n'\", \"\").replace('-',' ').replace(\"'\", \" \").replace('.','').replace(',','').replace('(','').replace(')','').replace('“','').replace('”','').replace(':','').replace('[',' ').replace(']',' ')\n",
        "print(\"Bibliografia: \",Bibliografia)  "
      ],
      "metadata": {
        "cellView": "form",
        "id": "2weu3_NrMiaM"
      },
      "execution_count": null,
      "outputs": []
    },
    {
      "cell_type": "code",
      "source": [
        "print(Bibliografia)"
      ],
      "metadata": {
        "id": "22O3QilOCqjx"
      },
      "execution_count": null,
      "outputs": []
    },
    {
      "cell_type": "code",
      "source": [
        "# Seu código\n",
        "\n",
        "letraM=[]\n"
      ],
      "metadata": {
        "id": "4PWi73IKFSD0"
      },
      "execution_count": null,
      "outputs": []
    },
    {
      "cell_type": "markdown",
      "source": [
        "#### Exercício 3b\n",
        "\n",
        "Conte o número de vezes que aparece a nome \"Gabriel\"."
      ],
      "metadata": {
        "id": "I2Ex_6vYIISR"
      }
    },
    {
      "cell_type": "code",
      "source": [
        "# Seu código\n",
        "\n",
        "Bibliografia2=Bibliografia.split()"
      ],
      "metadata": {
        "id": "I2oIMUIsIB4i"
      },
      "execution_count": null,
      "outputs": []
    }
  ]
}