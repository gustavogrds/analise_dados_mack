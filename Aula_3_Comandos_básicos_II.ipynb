{
  "nbformat": 4,
  "nbformat_minor": 0,
  "metadata": {
    "kernelspec": {
      "display_name": "Python 3",
      "language": "python",
      "name": "python3"
    },
    "language_info": {
      "codemirror_mode": {
        "name": "ipython",
        "version": 3
      },
      "file_extension": ".py",
      "mimetype": "text/x-python",
      "name": "python",
      "nbconvert_exporter": "python",
      "pygments_lexer": "ipython3",
      "version": "3.8.5"
    },
    "colab": {
      "name": "Aula 3 Comandos básicos II.ipynb",
      "provenance": [],
      "collapsed_sections": [
        "fJKTMpbTcF27",
        "dIWoZuZocgkb",
        "ELJ9nAXX1xdB",
        "aSmPhwrF3YjU",
        "2RwFWY_SDERi",
        "cFHHGfucKzL-",
        "80S5Y3E2vFb5",
        "Vt62tN8SG1Ah",
        "ZTfJkgXURTvJ",
        "o01GMc5xp5EN",
        "UTevv6xNOt5L"
      ],
      "include_colab_link": true
    }
  },
  "cells": [
    {
      "cell_type": "markdown",
      "metadata": {
        "id": "view-in-github",
        "colab_type": "text"
      },
      "source": [
        "<a href=\"https://colab.research.google.com/github/gustavogrds/analise_dados_mack/blob/main/Aula_3_Comandos_b%C3%A1sicos_II.ipynb\" target=\"_parent\"><img src=\"https://colab.research.google.com/assets/colab-badge.svg\" alt=\"Open In Colab\"/></a>"
      ]
    },
    {
      "cell_type": "markdown",
      "metadata": {
        "id": "8wnyRJjEVSvB"
      },
      "source": [
        "<head>\n",
        "  <meta name=\"author\" content=\"Orlando\">\n",
        "  <meta institution=\"author\" content=\"Universidade Presbiteriana Mackenzie\">\n",
        "</head>\n",
        "\n",
        "<img src=\"http://www.orlandoalbarracin.com.br/phyton/mackenzie-logo.png\" width=300, align=\"left\">\n",
        "<!-- <h1 align=left><font size = 6, style=\"color:rgb(200,0,0)\"> optional title </font></h1> -->\n"
      ]
    },
    {
      "cell_type": "markdown",
      "metadata": {
        "id": "fJKTMpbTcF27"
      },
      "source": [
        "# Introdução\n",
        "Python é uma linguagem bastante poderosa e com muitos recursos. Nessa introdução de Python para Ciência de Dados vamos aprender apenas um conjunto de recursos mínimos que serão necessários para fazermos a maior parte de nossas análises no curso."
      ]
    },
    {
      "cell_type": "markdown",
      "metadata": {
        "id": "dIWoZuZocgkb"
      },
      "source": [
        "## Estruturas de Dados \n",
        "\n",
        "Estruturas de dados como Listas, Tuplas, Conjuntos e Dicionários desempenham um papel fundamental tanto para programação como para a análise de dados.  Vamos nos estudar unm pouco mais as estruturas de listas e dicionários uma vez que têm mais utilidade para os nossos propósitos."
      ]
    },
    {
      "cell_type": "markdown",
      "source": [
        "### Coleções\n",
        "\n",
        "Existem, principalmente, quatro tipos de dados de coleções em Python:\n",
        "\n",
        "- Lista (**list**) é uma coleção que é ordenada e mutável. Permite membros duplicados.\n",
        "- Tupla (**tuple**) é uma coleção que é ordenada e imutável. Permite membros duplicados.\n",
        "- Conjunto (**set**) é uma coleção não ordenada e não indexada. Nenhum membro duplicado.\n",
        "- Dicionário (**dictionary**) é uma coleção desordenada, mutável e indexada. Nenhum membro duplicado.\n",
        "\n"
      ],
      "metadata": {
        "id": "ELJ9nAXX1xdB"
      }
    },
    {
      "cell_type": "markdown",
      "metadata": {
        "id": "aSmPhwrF3YjU"
      },
      "source": [
        "### <font color='red'> Listas </font>\n",
        "Na programação Python, uma lista é criada colocando todos os itens (elementos) entre colchetes [ ], separados por vírgulas. Ele pode ter qualquer número de itens e eles podem ser de tipos diferentes (inteiro, flutuante, string etc.)."
      ]
    },
    {
      "cell_type": "code",
      "metadata": {
        "id": "HLrbU_XNDERd",
        "colab": {
          "base_uri": "https://localhost:8080/"
        },
        "outputId": "8005793e-dcba-4f26-bff4-0be8cb5d94ea"
      },
      "source": [
        "# Exemplo 1\n",
        "\n",
        "Notas = [2,3.4,7,8,1.4]\n",
        "\n",
        "# Índices de listas\n",
        "print(Notas[0])\n",
        "print(Notas[4])\n",
        "print(Notas[0:2])\n",
        "print(Notas[1:])"
      ],
      "execution_count": null,
      "outputs": [
        {
          "output_type": "execute_result",
          "data": {
            "text/plain": [
              "[3.4, 7]"
            ]
          },
          "metadata": {},
          "execution_count": 3
        }
      ]
    },
    {
      "cell_type": "code",
      "metadata": {
        "id": "wgAg5klXDERd",
        "colab": {
          "base_uri": "https://localhost:8080/"
        },
        "outputId": "db6d1bdb-0dc3-4aec-9ae5-7ef8d7c357d6"
      },
      "source": [
        "# Exemplo 2\n",
        "\n",
        "Informação = [\"Orlando\", \"Colombiano\", 1.78]\n",
        "print(Informação)"
      ],
      "execution_count": null,
      "outputs": [
        {
          "output_type": "stream",
          "name": "stdout",
          "text": [
            "['Orlando', 'Colombiano', 1.78]\n"
          ]
        }
      ]
    },
    {
      "cell_type": "code",
      "metadata": {
        "id": "fAdvOm1dDERe",
        "colab": {
          "base_uri": "https://localhost:8080/"
        },
        "outputId": "e536992d-bd3d-4796-aa8e-c0ef51c1f4df"
      },
      "source": [
        "# Exemplo 3\n",
        "\n",
        "Receita= [[\"banana\",\"maça\",\"pera\"],[1,2,0.5]]\n",
        "print(Receita[0][0], Receita[1][0])"
      ],
      "execution_count": null,
      "outputs": [
        {
          "output_type": "stream",
          "name": "stdout",
          "text": [
            "banana 1\n"
          ]
        }
      ]
    },
    {
      "cell_type": "markdown",
      "metadata": {
        "id": "2RwFWY_SDERi"
      },
      "source": [
        "#### <font color='blue'> Python List Methods  </font> \n"
      ]
    },
    {
      "cell_type": "markdown",
      "source": [
        "append() - Add an element to the end of the list \\\n",
        "extend() - Add all elements of a list to the another list \\\n",
        "insert() - Insert an item at the defined index \\\n",
        "remove() - Removes an item from the list \\\n",
        "pop() - Removes and returns an element at the given index \\\n",
        "clear() - Removes all items from the list \\\n",
        "index() - Returns the index of the first matched item \\\n",
        "count() - Returns the count of the number of items passed as an argument \\\n",
        "sort() - Sort items in a list in ascending order \\\n",
        "reverse() - Reverse the order of items in the list \\\n",
        "copy() - Returns a shallow copy of the list \\"
      ],
      "metadata": {
        "id": "fZRt59EV4th1"
      }
    },
    {
      "cell_type": "code",
      "source": [
        "Idades=[21,32,24,27,28,30] "
      ],
      "metadata": {
        "id": "UpenLL4zBGXW"
      },
      "execution_count": null,
      "outputs": []
    },
    {
      "cell_type": "code",
      "metadata": {
        "id": "KbEKdkhZDERf",
        "colab": {
          "base_uri": "https://localhost:8080/"
        },
        "outputId": "724d3832-1098-4770-e655-ad873673901c"
      },
      "source": [
        "# Corrigindo valores em uma lista\n",
        "\n",
        "Idades[0]=40\n",
        "Idades"
      ],
      "execution_count": null,
      "outputs": [
        {
          "output_type": "execute_result",
          "data": {
            "text/plain": [
              "[40, 32, 24, 27, 28, 30]"
            ]
          },
          "metadata": {},
          "execution_count": 10
        }
      ]
    },
    {
      "cell_type": "code",
      "metadata": {
        "id": "N43o3lBFDERf",
        "colab": {
          "base_uri": "https://localhost:8080/"
        },
        "outputId": "33b12fc2-1a08-47e4-c0ca-647e36acdc72"
      },
      "source": [
        "# Adicionando valores no final da lista\n",
        "\n",
        "Idades.append(26)\n",
        "Idades"
      ],
      "execution_count": null,
      "outputs": [
        {
          "output_type": "execute_result",
          "data": {
            "text/plain": [
              "[40, 32, 24, 27, 28, 30, 26]"
            ]
          },
          "metadata": {},
          "execution_count": 11
        }
      ]
    },
    {
      "cell_type": "code",
      "metadata": {
        "id": "NM4GsoHkQI4P",
        "colab": {
          "base_uri": "https://localhost:8080/"
        },
        "outputId": "066ff511-c9bc-4f4c-8095-e5c2ceff0c48"
      },
      "source": [
        "# Populando uma lista \n",
        "\n",
        "mylist = []\n",
        "nomes=['Beatriz', 'Aline', 'Adriana', 'Daniel'] \n",
        "\n",
        "for x in nomes:\n",
        "  mylist.append(x)\n",
        "\n",
        "print(mylist)"
      ],
      "execution_count": null,
      "outputs": [
        {
          "output_type": "stream",
          "name": "stdout",
          "text": [
            "['Beatriz', 'Aline', 'Adriana', 'Daniel']\n"
          ]
        }
      ]
    },
    {
      "cell_type": "code",
      "metadata": {
        "id": "kwzy7azrDERf",
        "colab": {
          "base_uri": "https://localhost:8080/"
        },
        "outputId": "a476b042-d408-4f93-9216-04332bfc07e3"
      },
      "source": [
        "# Adicionar una lista\n",
        "\n",
        "Idades.extend([21,32,40])\n",
        "Idades"
      ],
      "execution_count": null,
      "outputs": [
        {
          "output_type": "execute_result",
          "data": {
            "text/plain": [
              "[40, 32, 24, 27, 28, 30, 26, 21, 32, 40]"
            ]
          },
          "metadata": {},
          "execution_count": 13
        }
      ]
    },
    {
      "cell_type": "code",
      "source": [
        "Idades=[1,2,3,4,5,6,7,8,9]"
      ],
      "metadata": {
        "id": "JrVX1XDielZZ"
      },
      "execution_count": null,
      "outputs": []
    },
    {
      "cell_type": "code",
      "metadata": {
        "id": "TlOJ0GvuDERh",
        "colab": {
          "base_uri": "https://localhost:8080/"
        },
        "outputId": "e557a64b-9e69-41b3-9121-d47c09ac59bc"
      },
      "source": [
        "# Elimina o elemento do índice \"i\"\n",
        "\n",
        "del Idades[0]\n",
        "Idades\n",
        "# del Idades #Elimina todos os elementos"
      ],
      "execution_count": null,
      "outputs": [
        {
          "output_type": "execute_result",
          "data": {
            "text/plain": [
              "[2, 3, 4, 5, 6, 7, 8, 9]"
            ]
          },
          "metadata": {},
          "execution_count": 19
        }
      ]
    },
    {
      "cell_type": "code",
      "metadata": {
        "id": "vJykOnTXDERh",
        "colab": {
          "base_uri": "https://localhost:8080/"
        },
        "outputId": "394d247a-8671-458a-b489-49303f40f2ab"
      },
      "source": [
        "# Remover um valor\n",
        "\n",
        "telefone = [2124,3212,8901,2123]\n",
        "telefone.remove(8901)\n",
        "telefone"
      ],
      "execution_count": null,
      "outputs": [
        {
          "output_type": "execute_result",
          "data": {
            "text/plain": [
              "[2124, 3212, 2123, 8901]"
            ]
          },
          "metadata": {},
          "execution_count": 21
        }
      ]
    },
    {
      "cell_type": "code",
      "source": [
        "# Devolve o elemento eliminado do índice indicado, se não indica um índice elimina o último elemento\n",
        "\n",
        "lista=[1,2,3,4,5,6]\n",
        "print(lista.pop()) #posição\n",
        "print(lista)"
      ],
      "metadata": {
        "id": "EkYB-aeqDyCq",
        "colab": {
          "base_uri": "https://localhost:8080/"
        },
        "outputId": "cca45bbf-a6d6-495d-d29a-4b941636827f"
      },
      "execution_count": null,
      "outputs": [
        {
          "output_type": "stream",
          "name": "stdout",
          "text": [
            "6\n",
            "[1, 2, 3, 4, 5]\n"
          ]
        }
      ]
    },
    {
      "cell_type": "code",
      "metadata": {
        "id": "xm4br-uEDERi",
        "colab": {
          "base_uri": "https://localhost:8080/"
        },
        "outputId": "eded8ac4-ca87-4ebc-b443-b855e6cababf"
      },
      "source": [
        "# Contar numero de vezes que aparece o elemento \"x\" \n",
        "\n",
        "Idades=[20,21,21,32,43,25,21,20,36,17,29,20,19,17]\n",
        "Idades.count(21)"
      ],
      "execution_count": null,
      "outputs": [
        {
          "output_type": "execute_result",
          "data": {
            "text/plain": [
              "3"
            ]
          },
          "metadata": {},
          "execution_count": 29
        }
      ]
    },
    {
      "cell_type": "code",
      "metadata": {
        "id": "ufj_qEwyDERi",
        "colab": {
          "base_uri": "https://localhost:8080/"
        },
        "outputId": "9810b881-7d63-4f47-bd4d-980f61940bcb"
      },
      "source": [
        "# Inserir um valor num determinado index\n",
        "\n",
        "Idades.insert(2,50) # .insert(index, elemento)\n",
        "Idades"
      ],
      "execution_count": null,
      "outputs": [
        {
          "output_type": "execute_result",
          "data": {
            "text/plain": [
              "[20, 21, 50, 21, 32, 43, 25, 21, 20, 36, 17, 29, 20, 19, 17]"
            ]
          },
          "metadata": {},
          "execution_count": 30
        }
      ]
    },
    {
      "cell_type": "code",
      "metadata": {
        "id": "wWtdFdvmDERj",
        "colab": {
          "base_uri": "https://localhost:8080/"
        },
        "outputId": "11e2af47-f61d-4200-d02e-19d23f1c81fd"
      },
      "source": [
        "# Ordenar\n",
        "Idades.sort(reverse=False)\n",
        "Idades"
      ],
      "execution_count": null,
      "outputs": [
        {
          "output_type": "execute_result",
          "data": {
            "text/plain": [
              "[50, 43, 36, 32, 29, 25, 21, 21, 21, 20, 20, 20, 19, 17, 17]"
            ]
          },
          "metadata": {},
          "execution_count": 32
        }
      ]
    },
    {
      "cell_type": "code",
      "metadata": {
        "id": "_bodJYWgDERj",
        "colab": {
          "base_uri": "https://localhost:8080/"
        },
        "outputId": "352639be-1184-4a13-8090-d8e87f58bf5b"
      },
      "source": [
        "# Criando uma lista de números em sequência:\n",
        "\n",
        "seq=list(range(10)) # range(n) de 0 a n-1\n",
        "seq"
      ],
      "execution_count": null,
      "outputs": [
        {
          "output_type": "execute_result",
          "data": {
            "text/plain": [
              "[0, 1, 2, 3, 4, 5, 6, 7, 8, 9]"
            ]
          },
          "metadata": {},
          "execution_count": 33
        }
      ]
    },
    {
      "cell_type": "code",
      "metadata": {
        "id": "6GkU3jZtDERk"
      },
      "source": [
        "# Percorrendo uma lista com for:\n",
        "for x in lista:\n",
        "    print(x)"
      ],
      "execution_count": null,
      "outputs": []
    },
    {
      "cell_type": "code",
      "source": [
        "# Algumas funções\n",
        "\n",
        "print(max(lista)) # maior item\n",
        "print(min(lista)) # menor item\n",
        "print(sum(lista)) # somar os valores"
      ],
      "metadata": {
        "id": "3j-qwpH66RY6"
      },
      "execution_count": null,
      "outputs": []
    },
    {
      "cell_type": "code",
      "metadata": {
        "id": "1o-nFI6RDERk"
      },
      "source": [
        "# Percorrendo uma lista pegando o seu valor e sua posição:\n",
        "lista=[\"terminar\",\"frio\",\"alunos\",\"falando\",\"muito\",\"silêncio\"]\n",
        "for indice, valor in enumerate(lista):\n",
        "    print(indice,valor)"
      ],
      "execution_count": null,
      "outputs": []
    },
    {
      "cell_type": "markdown",
      "source": [
        "### Exercício"
      ],
      "metadata": {
        "id": "cFHHGfucKzL-"
      }
    },
    {
      "cell_type": "markdown",
      "source": [
        "Dados n úmeros inteiros, maiores que zero, inseridos pelo usuário (não permitir que o usuário digite mais números após escrever 0), calcule a média desses números e mostre o maior número digitado e em qual entrada (primeira ou segunda,...) foi inserido esse número pela primeira vez.  \n",
        "\n",
        "Dica: crie uma uma lista vazia e salve nela os valores digitados!"
      ],
      "metadata": {
        "id": "K8dH0edzMk1f"
      }
    },
    {
      "cell_type": "code",
      "source": [
        "# Seu código!\n",
        "\n",
        "import numpy as np\n",
        "\n",
        "numeros=[]\n"
      ],
      "metadata": {
        "id": "6280FrbKN8TT"
      },
      "execution_count": null,
      "outputs": []
    },
    {
      "cell_type": "markdown",
      "metadata": {
        "id": "80S5Y3E2vFb5"
      },
      "source": [
        "### <font color='green'> Tuplas </font>\n",
        "Uma tupla é criada colocando todos os itens (elementos) entre parênteses (), separados por vírgulas. Os parênteses são opcionais, no entanto, é uma boa prática usá-los.\n",
        "A diferença entre entre uma tupla e uma lista é que não podemos alterar os elementos de uma tupla depois de atribuída."
      ]
    },
    {
      "cell_type": "code",
      "source": [
        "# Exemplo 1\n",
        "\n",
        "dados=(123, 932, 464, [101,210], \"Recife\")\n",
        "print(dados)\n",
        "print(dados[3])\n",
        "print(dados[3][0])\n",
        "print(dados[3:])"
      ],
      "metadata": {
        "id": "Rq8AuXfrTFx2"
      },
      "execution_count": null,
      "outputs": []
    },
    {
      "cell_type": "code",
      "source": [
        "# cuidado!\n",
        "\n",
        "dados[3]=312\n",
        "\n",
        "\n",
        "# can't delete items\n",
        "#del dados[0]\n",
        "\n",
        "# Can delete an entire tuple\n",
        "#del dados"
      ],
      "metadata": {
        "id": "D_yfY1EUUC23"
      },
      "execution_count": null,
      "outputs": []
    },
    {
      "cell_type": "markdown",
      "metadata": {
        "id": "o_Lob0YpDERm"
      },
      "source": [
        "Ao contrário das listas, as tuplas são imutáveis.\n",
        "\n",
        "Isso significa que os elementos de uma tupla não podem ser alterados depois de atribuídos. Mas, se o próprio elemento for um tipo de dados mutável, como lista, seus itens aninhados podem ser alterados. "
      ]
    },
    {
      "cell_type": "code",
      "metadata": {
        "id": "k2mjRO996yXL"
      },
      "source": [
        "# However, item of mutable element can be changed\n",
        "\n",
        "dados=(123, 932, 464, [101,210], \"Recife\")\n",
        "print(dados[3][0])\n",
        "dados[3][0]=201"
      ],
      "execution_count": null,
      "outputs": []
    },
    {
      "cell_type": "code",
      "metadata": {
        "id": "ool9X1f7DERn"
      },
      "source": [
        "# We can test if an item exists in a tuple or not, using the keyword in.\n",
        "\n",
        "cadastro = ('Orlando', 'Daniel', 'Andrea', 'Luiz', 'Erika')\n",
        "\n",
        "print('Orlando' in cadastro)\n",
        "print('Andre' in cadastro)\n",
        "\n",
        "# Not in operation\n",
        "print('Daniel' not in cadastro)\n"
      ],
      "execution_count": null,
      "outputs": []
    },
    {
      "cell_type": "code",
      "metadata": {
        "id": "j0em02gWF6xa"
      },
      "source": [
        "# Funções úteis\n",
        "\n",
        "\"Olá, estão aqui?\".split()"
      ],
      "execution_count": null,
      "outputs": []
    },
    {
      "cell_type": "code",
      "metadata": {
        "id": "P9-TRvJtDERn"
      },
      "source": [
        "# Funções úteis\n",
        "\n",
        "my_tuple = ('a', 'p', 'e', 'p', 'l')\n",
        "\n",
        "print(my_tuple.count('p'))  #contar número de vezes que aparece o elemento\n",
        "print(my_tuple.index('l'))  # Encontrar o índice desse elemento\n",
        "print(my_tuple.index('p',2)) # 'p' after the 2th index is searched"
      ],
      "execution_count": null,
      "outputs": []
    },
    {
      "cell_type": "markdown",
      "metadata": {
        "id": "Vt62tN8SG1Ah"
      },
      "source": [
        "### <font color='blue'> Dicionário </font> "
      ]
    },
    {
      "cell_type": "markdown",
      "metadata": {
        "id": "OSlnKB0sDERo"
      },
      "source": [
        "O dicionário Python é uma coleção não ordenada de itens. Cada item de um dicionário possui um par: chave e valor.\n",
        "Criar um dicionário é tão simples quanto colocar itens entre chaves {} separados por vírgulas. Um item possui uma chave e um valor correspondente.\n",
        "\n",
        "Dicionário é uma coleção desordenada, mutável e indexada. "
      ]
    },
    {
      "cell_type": "code",
      "metadata": {
        "id": "Ajn6mMdEDERo"
      },
      "source": [
        "# Exemplo 1\n",
        "\n",
        "# Opção 1\n",
        "Inf = {'Nome': ['John','André','Camila'], 'Telefone': [122,322,213]}\n",
        "print(Inf)\n",
        "\n",
        "# Opção 2\n",
        "my_dict = dict({'Nacionalidades':['Italiano', 'brasileiro', 'brasileira']})\n",
        "print(my_dict)"
      ],
      "execution_count": null,
      "outputs": []
    },
    {
      "cell_type": "code",
      "metadata": {
        "id": "PqmNFXqvDERp"
      },
      "source": [
        "# Ver os elementos que estão na chave 'Nome'\n",
        "\n",
        "Inf = {'Nome': ['John','André','Camila'], 'Telefone': [122,322,213]}\n",
        "Inf['Nome'] \n"
      ],
      "execution_count": null,
      "outputs": []
    },
    {
      "cell_type": "code",
      "metadata": {
        "id": "KKt5M-eHQnCl"
      },
      "source": [
        "# Percorrendo um dicionário\n",
        "\n",
        "mydict = {'Beatriz':1978, 'Aline':1987, 'Adriana':1984, 'Daniel':1996} \n",
        "for i in mydict:\n",
        "    print(i, mydict[i])"
      ],
      "execution_count": null,
      "outputs": []
    },
    {
      "cell_type": "code",
      "source": [
        "# Populando um dicionário\n",
        "\n",
        "notas=[1,5,6,2]\n",
        "nomes=[\"Rafaela\",\"Andre\",\"Miguel\",\"Julia\"]\n",
        "dict2={}\n",
        "\n",
        "for i in [0,1,2,3]:\n",
        "  dict2[nomes[i]]=notas[i]\n",
        "\n",
        "dict2"
      ],
      "metadata": {
        "id": "Evf-Ow3YCUQk"
      },
      "execution_count": null,
      "outputs": []
    },
    {
      "cell_type": "code",
      "source": [
        "# Alterando elementos de dicionário\n",
        "\n",
        "Inf = {'Nome': ['John','André'], 'Telefóne': [122,322]}\n",
        "Inf['Telefóne'][1]=567\n",
        "Inf"
      ],
      "metadata": {
        "id": "HUuxWIpf7ibQ"
      },
      "execution_count": null,
      "outputs": []
    },
    {
      "cell_type": "code",
      "metadata": {
        "id": "fACYnpJGDERq"
      },
      "source": [
        "# adicionando itens\n",
        "\n",
        "Inf['Bairro'] = ['consolação','Pinheiros']\n",
        "Inf"
      ],
      "execution_count": null,
      "outputs": []
    },
    {
      "cell_type": "code",
      "source": [
        "Inf.keys() # Ver as chaves\n",
        "Inf.values() # Ver os valores"
      ],
      "metadata": {
        "id": "c5c7eS2dJXsV"
      },
      "execution_count": null,
      "outputs": []
    },
    {
      "cell_type": "code",
      "metadata": {
        "id": "SkRrLwzWDERq"
      },
      "source": [
        "#Eliminar chave e seus elementos\n",
        "Inf.pop('Nome') \n",
        "Inf"
      ],
      "execution_count": null,
      "outputs": []
    },
    {
      "cell_type": "code",
      "metadata": {
        "id": "s1ZT6N7EDERr"
      },
      "source": [
        "# remove all items\n",
        "Inf.clear()"
      ],
      "execution_count": null,
      "outputs": []
    },
    {
      "cell_type": "markdown",
      "source": [
        "### Exercício"
      ],
      "metadata": {
        "id": "ZTfJkgXURTvJ"
      }
    },
    {
      "cell_type": "markdown",
      "source": [
        "Os seguintes dados correspondem ao número diário de ligações recebidas de **segunda a sexta-feira**, numa central de atendimento durante 3 anos. Assuma que o primeiro valor corresponda ao número de ligações recebidas numa segunda-feira, o segundo valor corresponde às ligações de terça-feira,..."
      ],
      "metadata": {
        "id": "Ib0i0S6BUh0s"
      }
    },
    {
      "cell_type": "code",
      "source": [
        "import random\n",
        "random.seed(120)\n",
        "\n",
        "ligações=random.choices(list(range(1, 30)), k=765)\n",
        "print(ligações)"
      ],
      "metadata": {
        "id": "_aapxN6Gpoyl"
      },
      "execution_count": null,
      "outputs": []
    },
    {
      "cell_type": "markdown",
      "source": [
        "Crie um diccionário cujas chaves sejam os dias da semana e cujo valor seja o número total de ligações recebidas nesse dia da semana.\n",
        "\n",
        "```\n",
        "  Dic = { 'Segunda': n1, 'Terça': n2, 'Quarta': n3,'Quinta': n4,'Sexta':n5 }\n",
        "```"
      ],
      "metadata": {
        "id": "MrvYsX3wrRil"
      }
    },
    {
      "cell_type": "code",
      "source": [
        "# Seu código\n",
        "\n",
        "Dic={\"segunda\":0, \"terça\":0, \"quarta\":0, \"quinta\":0,\"sexta\":0}\n"
      ],
      "metadata": {
        "id": "HLxDgm7qqiFg"
      },
      "execution_count": null,
      "outputs": []
    },
    {
      "cell_type": "markdown",
      "metadata": {
        "id": "o01GMc5xp5EN"
      },
      "source": [
        "# Exercícios "
      ]
    },
    {
      "cell_type": "markdown",
      "source": [
        "## Questão 1\n",
        "Considere que a seguinte lista representa o número de e-mails recebidos numa central de atendimento de segunda a domingo. Assuma que o primeiro valor apresentando corresponde aos e-mail recebidos numa segunda-feira, o segundo valor a uma terça-feira..."
      ],
      "metadata": {
        "id": "QubDplCB6d-x"
      }
    },
    {
      "cell_type": "code",
      "source": [
        "import random\n",
        "random.seed(2022)\n",
        "\n",
        "emails=random.choices(list(range(0, 10)), k=2177) \n",
        "print(emails)"
      ],
      "metadata": {
        "id": "czIhJwsJ6nBm"
      },
      "execution_count": null,
      "outputs": []
    },
    {
      "cell_type": "markdown",
      "source": [
        "1. Crie uma lista com os e-mails recebidos somente aos sábados. Quantos e-mails foram recebidos no total nesse dia? Em média, quantos e-mails são recebidos a cada sábados? \n",
        "2. Em que dia se receberam no total mais e-mails? e menos?\n",
        "3. Em quantas segundas-feiras não se receberam e-mails?"
      ],
      "metadata": {
        "id": "tm2NkPS57PHJ"
      }
    },
    {
      "cell_type": "code",
      "source": [
        "# Seu código\n",
        "\n",
        "E_sab=[]\n"
      ],
      "metadata": {
        "id": "PNRu3T-CL2Ip"
      },
      "execution_count": null,
      "outputs": []
    },
    {
      "cell_type": "code",
      "source": [
        "# Seu código\n",
        "\n",
        "Dic={\"segunda\":0, \"terça\":0, \"quarta\":0, \"quinta\":0,\"sexta\":0,\"sabado\":0,\"domingo\":0}\n"
      ],
      "metadata": {
        "id": "Dwai2JaiMm-E"
      },
      "execution_count": null,
      "outputs": []
    },
    {
      "cell_type": "code",
      "source": [
        "# Seu código\n",
        "E_seg_zero=[]\n"
      ],
      "metadata": {
        "id": "vmp_ZhhgO6qY"
      },
      "execution_count": null,
      "outputs": []
    },
    {
      "cell_type": "markdown",
      "source": [
        "## Questão 2"
      ],
      "metadata": {
        "id": "vi5_1IsU8hcz"
      }
    },
    {
      "cell_type": "markdown",
      "source": [
        " Cada vez que um consumidor compra n itens de um produto são atualizadas duas  listas: Produto e Itens. A primeira lista salva a marca do produto (A, B ou C) e a segunda, o número de itens comprados dessa marca. No código abaixo temos os registros de 3000 clientes.\n"
      ],
      "metadata": {
        "id": "UVTcu7mL8lxK"
      }
    },
    {
      "cell_type": "code",
      "source": [
        "import random\n",
        "random.seed(2022)\n",
        "\n",
        "Itens=random.choices(list(range(1, 10)), k=3000)\n",
        "Produto=random.choices([\"A\",\"B\",\"C\"], k=3000)"
      ],
      "metadata": {
        "id": "QKvVrOJV-szt"
      },
      "execution_count": null,
      "outputs": []
    },
    {
      "cell_type": "code",
      "source": [
        "print(\"Assim, o primeiro dado indica que foram comprados\", (Itens[0]), \"itens da marca\",(Produto[0]))"
      ],
      "metadata": {
        "colab": {
          "base_uri": "https://localhost:8080/"
        },
        "id": "vx0PG4ZrRTfb",
        "outputId": "08cbf61e-389d-49d9-e5d1-3ca534219f68"
      },
      "execution_count": null,
      "outputs": [
        {
          "output_type": "stream",
          "name": "stdout",
          "text": [
            "Assim, o primeiro dado indica que foram comprados 5 itens da marca A\n"
          ]
        }
      ]
    },
    {
      "cell_type": "markdown",
      "source": [
        "Crie um dicionário, cujas chaves sejam os produtos e cujos valores sejam o total de produtos comprados.\n",
        "```\n",
        "  Dic = { 'A': n1, 'B': n2, 'C': n3 }\n",
        "```"
      ],
      "metadata": {
        "id": "B8CsBZxU9wmC"
      }
    },
    {
      "cell_type": "markdown",
      "source": [
        "- Qual produto teve mais/menos itens vendidos? \n",
        "- Em média, quantos itens são adquiridos quando se compram produtos da marca A? \n",
        "\\\n",
        "Dica: (Soma de itens comprados da marca A)/Total de vezes em que se comprou produtos da marca A)"
      ],
      "metadata": {
        "id": "n2zSHjph_kW9"
      }
    },
    {
      "cell_type": "code",
      "source": [
        "# Seu código\n",
        "Dic={\"A\":0, \"B\":0,\"C\":0}\n"
      ],
      "metadata": {
        "id": "Hv5eGkQyRvf0"
      },
      "execution_count": null,
      "outputs": []
    },
    {
      "cell_type": "markdown",
      "source": [
        "##Questão 3"
      ],
      "metadata": {
        "id": "C8RCHfwP8j0A"
      }
    },
    {
      "cell_type": "markdown",
      "metadata": {
        "id": "5RSde6PH9akR"
      },
      "source": [
        "O código abaixo lê o texto **Ulisses, de James Joyce** (Não precisa entender o código neste momento)\n",
        "\n",
        "Qual dos seguintes nomes corresponde ao personagem principal da obra Ulisses: bloom, ulysses ou stephen. Assuma que o personagem mais citado numa obra é o protagonista.\n",
        "\n",
        "Dica: Empregue a frequência dos têrmos do dicionário para identificar o personagem mais importante."
      ]
    },
    {
      "cell_type": "code",
      "source": [
        "# Código para ler o texto Ulisses (pular esse código)\n",
        "\n",
        "import urllib.request  # the lib that handles the url stuff\n",
        "texto = []\n",
        "link='https://www.gutenberg.org/files/4300/4300-0.txt'\n",
        "for line in urllib.request.urlopen(link): \n",
        "    texto.append(line.decode('utf-8')) \n",
        "\n",
        "punctuations = '''!()-[]{};:'\"\\,<>./?@#$%^&*_~—'''\n",
        "\n",
        "# remove punctuation from the string\n",
        "my_str=str(texto).replace(\"\\\\r\\\\n'\", \"\")\n",
        "livro = \"\"\n",
        "\n",
        "for char in my_str:\n",
        "   if char not in punctuations:\n",
        "       livro = livro + char\n",
        "\n",
        "# display the unpunctuated string\n",
        "print(livro)"
      ],
      "metadata": {
        "id": "u0mFb4uF7AMP"
      },
      "execution_count": null,
      "outputs": []
    },
    {
      "cell_type": "code",
      "source": [
        "# Apresenta o livro\n",
        "print(livro)"
      ],
      "metadata": {
        "id": "MJjLMOH0DMaC"
      },
      "execution_count": null,
      "outputs": []
    },
    {
      "cell_type": "code",
      "source": [
        "# Seu código\n",
        "\n",
        "mydict={}\n",
        "palavras0=livro.lower()          # texto com palavras minúsculas\n",
        "palavras=palavras0.split()           # separa cada palavra\n"
      ],
      "metadata": {
        "id": "aoKptKuADWf5"
      },
      "execution_count": null,
      "outputs": []
    },
    {
      "cell_type": "markdown",
      "metadata": {
        "id": "UTevv6xNOt5L"
      },
      "source": [
        "## Exercício 4 (Resolvido)\n",
        "\n",
        "Crie um programa para criar uma lista de nomes a partir da entrada.\n"
      ]
    },
    {
      "cell_type": "code",
      "metadata": {
        "id": "H0B051VMOwg5"
      },
      "source": [
        "T=True\n",
        "nomes=[]\n",
        "\n",
        "while T:\n",
        "  name = input('Entre com um nome ou \\'END\\' para terminar: ')\n",
        "  if name != 'END':\n",
        "    nomes.append(name)\n",
        "  else:\n",
        "    break\n",
        "\n",
        "print(nomes) "
      ],
      "execution_count": null,
      "outputs": []
    }
  ]
}