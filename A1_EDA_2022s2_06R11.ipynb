{
  "nbformat": 4,
  "nbformat_minor": 0,
  "metadata": {
    "colab": {
      "provenance": [],
      "authorship_tag": "ABX9TyM+bd7Kh2ynGGqGhCneUuZa",
      "include_colab_link": true
    },
    "kernelspec": {
      "name": "python3",
      "display_name": "Python 3"
    },
    "language_info": {
      "name": "python"
    }
  },
  "cells": [
    {
      "cell_type": "markdown",
      "metadata": {
        "id": "view-in-github",
        "colab_type": "text"
      },
      "source": [
        "<a href=\"https://colab.research.google.com/github/gustavogrds/analise_dados_mack/blob/main/A1_EDA_2022s2_06R11.ipynb\" target=\"_parent\"><img src=\"https://colab.research.google.com/assets/colab-badge.svg\" alt=\"Open In Colab\"/></a>"
      ]
    },
    {
      "cell_type": "markdown",
      "source": [
        "<head>\n",
        "  <meta name=\"author\" content=\"Gustavo Rocha\">\n",
        "  <meta institution=\"author\" content=\"Universidade Presbiteriana Mackenzie\">\n",
        "</head>\n",
        "\n",
        "<img src=\"http://meusite.mackenzie.br/rogerio/mackenzie_logo/UPM.2_horizontal_vermelho.jpg\" width=300, align=\"right\"> \n",
        "<!-- <h1 align=left><font size = 6, style=\"color:rgb(200,0,0)\"> optional title </font></h1> -->\n",
        "\n",
        "<br>\n",
        "<br>\n",
        "<br>\n",
        "<br>\n",
        "<br>\n",
        "\n",
        "# Avaliação Case: **Tour de France** \n",
        "---"
      ],
      "metadata": {
        "id": "36syg1cn87ka"
      }
    },
    {
      "cell_type": "markdown",
      "source": [
        "## Para responder as questões da avaliação, você deverá trabalhar com os dados da competição do **Tour de France**:\n",
        "\n",
        "*O Tour de France é uma corrida anual de ciclismo, de várias etapas, realizada principalmente na França, enquanto também passa ocasionalmente por países vizinhos. Como os outros Grand Tours (o Giro d'Italia e a Vuelta a España), consiste em 21 etapas de um dia ao longo de 23 dias. Foi descrito como \"a corrida de bicicleta mais prestigiada e mais difícil do mundo\".*"
      ],
      "metadata": {
        "id": "NCaqWiYO9IJL"
      }
    },
    {
      "cell_type": "markdown",
      "source": [
        "Os dados estão disponíveis no seguinte link: \n",
        "https://raw.githubusercontent.com/rfordatascience/tidytuesday/master/data/2020/2020-04-07/tdf_winners.csv"
      ],
      "metadata": {
        "id": "We01nwuy-Bbf"
      }
    },
    {
      "cell_type": "markdown",
      "source": [
        "### Data Dictionary\n",
        "\n",
        "# `tdf_winners.csv`\n",
        "\n",
        "|variable      |class     |description |\n",
        "|:-------------|:---------|:-----------|\n",
        "|edition       |integer   | Edition of the Tour de France |\n",
        "|start_date    |double    | Start date of the Tour |\n",
        "|winner_name   |character | Winner's name|\n",
        "|winner_team   |character | Winner's team (NA if not on a team) |\n",
        "|distance      |double    | Distance traveled in KM across the entire race |\n",
        "|time_overall  |double    | Time in hours taken by the winner to complete the race|\n",
        "|time_margin   |double    | Difference in finishing time between the race winner and the runner up |\n",
        "|stage_wins    |double    | Number of stage wins (note that it is possible to win the GC without winning any stages at all) |\n",
        "|stages_led    |double    | Stages led is the number of stages spent as the race leader (wearing the yellow jersey) by the eventual winner |\n",
        "|height        |double    | Height in meters|\n",
        "|weight        |double    | Weight in kg|\n",
        "|age           |integer   | Age as winner |\n",
        "|born          |double    | year born |\n",
        "|died          |double    | Year died|\n",
        "|full_name     |character | Full name |\n",
        "|nickname      |character | Nickname |\n",
        "|birth_town    |character | Birth town|\n",
        "|birth_country |character | Birth country|\n",
        "|nationality   |character | Nationality|"
      ],
      "metadata": {
        "id": "u19ossPIAAZq"
      }
    },
    {
      "cell_type": "markdown",
      "source": [
        "Abaixo, faça o import das bibliotecas e leia o dado."
      ],
      "metadata": {
        "id": "xcm52KfD_JSN"
      }
    },
    {
      "cell_type": "code",
      "source": [
        "import pandas as pd\n",
        "..."
      ],
      "metadata": {
        "id": "91DseI2q_I33"
      },
      "execution_count": 1,
      "outputs": []
    },
    {
      "cell_type": "markdown",
      "source": [
        "#Questão 1: Qual o número de linhas e colunas no dataframe? "
      ],
      "metadata": {
        "id": "kZgQ4Rsb_RS1"
      }
    },
    {
      "cell_type": "markdown",
      "source": [
        "# Questão 2: Para quantos atletas vencedores da lista nós temos a altura e o peso respectivamente? (height,weight)"
      ],
      "metadata": {
        "id": "6h6TWKlhAWa8"
      }
    },
    {
      "cell_type": "markdown",
      "source": [
        "# Questão 3: Qual é aproximadamente a % de vezes em que um atleta da Bélgica venceu o torneio ?"
      ],
      "metadata": {
        "id": "b4GylIxqBhzZ"
      }
    },
    {
      "cell_type": "markdown",
      "source": [
        "# Questão 4: Qual a data de nascimento do atleta mais novo a vencer o torneio?\n",
        "\n"
      ],
      "metadata": {
        "id": "V-eIlMtJCPSy"
      }
    },
    {
      "cell_type": "markdown",
      "source": [
        "# Questão 5: Após remover as linhas com valores nulos, qual é o total de linhas ?"
      ],
      "metadata": {
        "id": "vb3iHmlBxKdI"
      }
    },
    {
      "cell_type": "markdown",
      "source": [
        "# Questão 6: Qual a soma da distância percorrida por todos os ciclistas que nasceram na Itália (birth_country)?"
      ],
      "metadata": {
        "id": "zYTYwKAfxqbW"
      }
    },
    {
      "cell_type": "markdown",
      "source": [
        "# Questão 7: Qual a mediana da distribuição de distância percorrida?"
      ],
      "metadata": {
        "id": "OBVAPrPj1qwH"
      }
    },
    {
      "cell_type": "markdown",
      "source": [
        "# Questão 8: Qual a quantidade de nacionalidades vencedoras do Tour de France?"
      ],
      "metadata": {
        "id": "r9kRaMV22P4-"
      }
    },
    {
      "cell_type": "markdown",
      "source": [
        "# Questão 9: Crie uma nova coluna chamada velocidade_média (Usando distance e tempo total). Em qual edição se observou a maior velocidade média."
      ],
      "metadata": {
        "id": "RIc7ZyS72jbC"
      }
    },
    {
      "cell_type": "markdown",
      "source": [
        "# Questão 10: O atleta Lance Armstrong ficou famoso em virtude de um escândalo de doping. Entre os 5 maiores valores de velocidade média, quantas vezes o nome dele aparece como vencedor do torneio? "
      ],
      "metadata": {
        "id": "YmorXsNU4d1t"
      }
    },
    {
      "cell_type": "markdown",
      "source": [
        "# Questão 11: Usando o comando group_by crie uma tabela contando quantas vezes cada atleta ganhou o torneio. Ordene por ordem alfabética. Quem é o primeiro e o último da lista? "
      ],
      "metadata": {
        "id": "k9GUeu9M42Mj"
      }
    },
    {
      "cell_type": "markdown",
      "source": [
        "# Questão 12: Usando o comando group_by crie uma tabela com o nome de cada atleta que ganhou o torneio e que mostre distância média, desvio padrão, soma das distâncias."
      ],
      "metadata": {
        "id": "slWBsE4h6i3G"
      }
    },
    {
      "cell_type": "markdown",
      "source": [
        "# Com base no resultado acima responda: qual a soma, a média e o desvio-padrão da distância no caso do atleta Bernard Hinault? "
      ],
      "metadata": {
        "id": "1N0_jtea92Nm"
      }
    }
  ]
}